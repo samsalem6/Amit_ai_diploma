{
 "cells": [
  {
   "cell_type": "markdown",
   "id": "c056fd75",
   "metadata": {},
   "source": [
    "### Basics"
   ]
  },
  {
   "cell_type": "code",
   "execution_count": 8,
   "id": "0a41c40d",
   "metadata": {},
   "outputs": [
    {
     "data": {
      "text/plain": [
       "5"
      ]
     },
     "execution_count": 8,
     "metadata": {},
     "output_type": "execute_result"
    }
   ],
   "source": [
    "2+3"
   ]
  },
  {
   "cell_type": "code",
   "execution_count": 7,
   "id": "0162ad3b",
   "metadata": {},
   "outputs": [
    {
     "data": {
      "text/plain": [
       "-3"
      ]
     },
     "execution_count": 7,
     "metadata": {},
     "output_type": "execute_result"
    }
   ],
   "source": [
    "# Subtraction\n",
    "2-5"
   ]
  },
  {
   "cell_type": "code",
   "execution_count": 5,
   "id": "dbe4e887",
   "metadata": {},
   "outputs": [
    {
     "data": {
      "text/plain": [
       "25"
      ]
     },
     "execution_count": 5,
     "metadata": {},
     "output_type": "execute_result"
    }
   ],
   "source": [
    "# Multiplication\n",
    "5*5\n"
   ]
  },
  {
   "cell_type": "code",
   "execution_count": 9,
   "id": "9247175d",
   "metadata": {},
   "outputs": [
    {
     "data": {
      "text/plain": [
       "3.0"
      ]
     },
     "execution_count": 9,
     "metadata": {},
     "output_type": "execute_result"
    }
   ],
   "source": [
    "# Division\n",
    "6/2"
   ]
  },
  {
   "cell_type": "code",
   "execution_count": 11,
   "id": "09d79aef",
   "metadata": {},
   "outputs": [
    {
     "data": {
      "text/plain": [
       "'\\n# This is a comment\\n# It will not be executed  \\n'"
      ]
     },
     "execution_count": 11,
     "metadata": {},
     "output_type": "execute_result"
    }
   ],
   "source": [
    "'''\n",
    "# This is a comment\n",
    "# It will not be executed  \n",
    "'''\n",
    "\n",
    "# \\n is used to create a new line in a string"
   ]
  },
  {
   "cell_type": "code",
   "execution_count": 12,
   "id": "a72d908a",
   "metadata": {},
   "outputs": [
    {
     "data": {
      "text/plain": [
       "1.75"
      ]
     },
     "execution_count": 12,
     "metadata": {},
     "output_type": "execute_result"
    }
   ],
   "source": [
    "#floor division\n",
    "7/4"
   ]
  },
  {
   "cell_type": "code",
   "execution_count": 14,
   "id": "51ff09ec",
   "metadata": {},
   "outputs": [
    {
     "data": {
      "text/plain": [
       "3"
      ]
     },
     "execution_count": 14,
     "metadata": {},
     "output_type": "execute_result"
    }
   ],
   "source": [
    "# remainder\n",
    "7%4"
   ]
  },
  {
   "cell_type": "code",
   "execution_count": 15,
   "id": "5a6bd36c",
   "metadata": {},
   "outputs": [
    {
     "data": {
      "text/plain": [
       "8"
      ]
     },
     "execution_count": 15,
     "metadata": {},
     "output_type": "execute_result"
    }
   ],
   "source": [
    "# power\n",
    "2**3"
   ]
  },
  {
   "cell_type": "code",
   "execution_count": 16,
   "id": "594c0b25",
   "metadata": {},
   "outputs": [
    {
     "data": {
      "text/plain": [
       "2.0"
      ]
     },
     "execution_count": 16,
     "metadata": {},
     "output_type": "execute_result"
    }
   ],
   "source": [
    "# can also do roots this way\n",
    "4**0.5"
   ]
  },
  {
   "cell_type": "code",
   "execution_count": 17,
   "id": "6728f7fe",
   "metadata": {},
   "outputs": [
    {
     "data": {
      "text/plain": [
       "105"
      ]
     },
     "execution_count": 17,
     "metadata": {},
     "output_type": "execute_result"
    }
   ],
   "source": [
    "# order of operations\n",
    "2 + 10 * 10 + 3"
   ]
  },
  {
   "cell_type": "code",
   "execution_count": 19,
   "id": "73d4889f",
   "metadata": {},
   "outputs": [
    {
     "data": {
      "text/plain": [
       "156"
      ]
     },
     "execution_count": 19,
     "metadata": {},
     "output_type": "execute_result"
    }
   ],
   "source": [
    "# can use parentheses to specify order\n",
    "(2 + 10) * (10 + 3)"
   ]
  },
  {
   "cell_type": "markdown",
   "id": "2928dd50",
   "metadata": {},
   "source": [
    "#### Data types"
   ]
  },
  {
   "cell_type": "code",
   "execution_count": 82,
   "id": "ee2b1c41",
   "metadata": {},
   "outputs": [],
   "source": [
    "# integers\n",
    "# list == array\n",
    "# float\n",
    "# string\n",
    "# boolean\n",
    "# set\n",
    "# dictionary\n",
    "# tuple"
   ]
  },
  {
   "cell_type": "code",
   "execution_count": 26,
   "id": "2b33c9b9",
   "metadata": {},
   "outputs": [
    {
     "data": {
      "text/plain": [
       "bool"
      ]
     },
     "execution_count": 26,
     "metadata": {},
     "output_type": "execute_result"
    }
   ],
   "source": [
    "# type() returns the type of the object\n",
    "\n",
    "# integer\n",
    "x=5\n",
    "type(x) # int\n",
    "\n",
    "# string\n",
    "x=\"5\"\n",
    "type(x) # str\n",
    "\n",
    "# boolean\n",
    "x=True\n",
    "type(x) # bool\n"
   ]
  },
  {
   "cell_type": "code",
   "execution_count": 27,
   "id": "d672dfcf",
   "metadata": {},
   "outputs": [
    {
     "data": {
      "text/plain": [
       "complex"
      ]
     },
     "execution_count": 27,
     "metadata": {},
     "output_type": "execute_result"
    }
   ],
   "source": [
    "# complex function\n",
    "x=5+3j\n",
    "type(x) # complex\n"
   ]
  },
  {
   "cell_type": "markdown",
   "id": "a48d3a9a",
   "metadata": {},
   "source": [
    "## Print Statmant"
   ]
  },
  {
   "cell_type": "code",
   "execution_count": 28,
   "id": "e1a1d56f",
   "metadata": {},
   "outputs": [
    {
     "name": "stdout",
     "output_type": "stream",
     "text": [
      "(5+3j)\n"
     ]
    },
    {
     "data": {
      "text/plain": [
       "10"
      ]
     },
     "execution_count": 28,
     "metadata": {},
     "output_type": "execute_result"
    }
   ],
   "source": [
    "print(x)\n",
    "7 + 3"
   ]
  },
  {
   "cell_type": "code",
   "execution_count": 36,
   "id": "d2cc2d15",
   "metadata": {},
   "outputs": [
    {
     "name": "stdout",
     "output_type": "stream",
     "text": [
      "Welcom to Amit learning Ai Deploma Class 65\n"
     ]
    }
   ],
   "source": [
    "# other way to print\n",
    "x=30*3 - 25\n",
    "print(\"Welcom to Amit learning Ai Deploma Class\", x)"
   ]
  },
  {
   "cell_type": "code",
   "execution_count": 53,
   "id": "a099e1ea",
   "metadata": {},
   "outputs": [
    {
     "name": "stdout",
     "output_type": "stream",
     "text": [
      "Hello\n",
      "World\n",
      "=======================\n",
      "Hello World Sam! \n",
      "======================\n",
      "hello-world-sam"
     ]
    }
   ],
   "source": [
    "# how to prent new line\n",
    "print(\"Hello\\nWorld\")\n",
    "print(\"=======================\")\n",
    "#or \n",
    "print(\"Hello\", end=\" \")\n",
    "print(\"World\", end=\" \")\n",
    "print(\"Sam\", end=\"! \\n\")\n",
    "\n",
    "# string as slug\n",
    "print(\"======================\")\n",
    "print(\"hello\", end=\"-\")\n",
    "print(\"world\", end=\"-\")\n",
    "print(\"sam\", end=\"\")"
   ]
  },
  {
   "cell_type": "markdown",
   "id": "bfea411b",
   "metadata": {},
   "source": [
    "### Variables"
   ]
  },
  {
   "cell_type": "code",
   "execution_count": 88,
   "id": "6f76c1a2",
   "metadata": {},
   "outputs": [
    {
     "name": "stdout",
     "output_type": "stream",
     "text": [
      "31\n"
     ]
    }
   ],
   "source": [
    "# assignment operator\n",
    "name=\"Sam\"\n",
    "age=30\n",
    "\n",
    "# age=age+1\n",
    "\n",
    "age += 1\n",
    "print(age)"
   ]
  },
  {
   "cell_type": "code",
   "execution_count": 65,
   "id": "fc4d0f99",
   "metadata": {},
   "outputs": [
    {
     "name": "stdout",
     "output_type": "stream",
     "text": [
      "5\n"
     ]
    }
   ],
   "source": [
    "# assign a single value to several variables\n",
    "x=y=z=5\n",
    "print(y) "
   ]
  },
  {
   "cell_type": "code",
   "execution_count": 70,
   "id": "dc8bf4a7",
   "metadata": {},
   "outputs": [
    {
     "name": "stdout",
     "output_type": "stream",
     "text": [
      "5\n",
      "10\n",
      "sam\n"
     ]
    }
   ],
   "source": [
    "# assign multiple objects to multiple variables\n",
    "x,y,z=5,10, \"sam\"\n",
    "print(x)\n",
    "print(y)\n",
    "print(z)"
   ]
  },
  {
   "cell_type": "markdown",
   "id": "c1a6bf6b",
   "metadata": {},
   "source": [
    "## Multiple line statements & One-line stetements"
   ]
  },
  {
   "cell_type": "code",
   "execution_count": 76,
   "id": "1326ca02",
   "metadata": {},
   "outputs": [
    {
     "name": "stdout",
     "output_type": "stream",
     "text": [
      "Hello WorldSam is learning AI\n",
      "=========================\n",
      "25\n"
     ]
    }
   ],
   "source": [
    "# break a long line\n",
    "message=\"Hello World\" \\\n",
    "\"Sam is learning AI\"\n",
    "print(message)\n",
    "print(\"=========================\")\n",
    "# Example 2: Continuing an expression\n",
    "result = (2 + 3 +\n",
    "          4 * 5)\n",
    "print(result)"
   ]
  },
  {
   "cell_type": "code",
   "execution_count": 81,
   "id": "e8af430b",
   "metadata": {},
   "outputs": [
    {
     "name": "stdout",
     "output_type": "stream",
     "text": [
      "5 10 15\n",
      "=========================\n",
      "Sam 30 New York\n"
     ]
    }
   ],
   "source": [
    "# one line Stetements\n",
    "x=5; y=10; z=x+y\n",
    "print(x, y, z)\n",
    "\n",
    "print(\"=========================\")\n",
    "\n",
    "name=\"Sam\"; age=30; city=\"New York\"\n",
    "print(name, age, city)\n"
   ]
  },
  {
   "cell_type": "markdown",
   "id": "61a6e9ec",
   "metadata": {},
   "source": [
    "##### String"
   ]
  },
  {
   "cell_type": "code",
   "execution_count": 90,
   "id": "2bcb2c54",
   "metadata": {},
   "outputs": [
    {
     "data": {
      "text/plain": [
       "11"
      ]
     },
     "execution_count": 90,
     "metadata": {},
     "output_type": "execute_result"
    }
   ],
   "source": [
    "# length of string\n",
    "x= \"hello world\"\n",
    "len(x)"
   ]
  },
  {
   "cell_type": "code",
   "execution_count": 99,
   "id": "24676275",
   "metadata": {},
   "outputs": [
    {
     "name": "stdout",
     "output_type": "stream",
     "text": [
      "h\n",
      "d\n"
     ]
    }
   ],
   "source": [
    "# show the first character of a string\n",
    "x[0]\n",
    "print(x[0])\n",
    "\n",
    "# show the last character of a string\n",
    "x[-1]\n",
    "print(x[-1])"
   ]
  },
  {
   "cell_type": "code",
   "execution_count": 109,
   "id": "70a0d14b",
   "metadata": {},
   "outputs": [
    {
     "name": "stdout",
     "output_type": "stream",
     "text": [
      "hello world\n",
      "==========================\n",
      "ello world\n",
      "hello worl\n",
      "ello\n",
      "==========================\n",
      "hlo\n",
      "hello\n"
     ]
    }
   ],
   "source": [
    "# slicing a string\n",
    "print(\"hello world\")\n",
    "print(\"==========================\")\n",
    "x[1:] # ello world\n",
    "x[:-1] # hello world\n",
    "x[1:5] # ello\n",
    "print(x[1:])\n",
    "print(x[:-1])\n",
    "print(x[1:5])\n",
    "print(\"==========================\")\n",
    "\n",
    "# slicing a string with step\n",
    "\n",
    "x[0:5:2] # hlo\n",
    "x[0:5:1] # hello\n",
    "\n",
    "print(x[0:5:2])\n",
    "print(x[0:5:1])"
   ]
  },
  {
   "cell_type": "code",
   "execution_count": 110,
   "id": "1f749400",
   "metadata": {},
   "outputs": [
    {
     "name": "stdout",
     "output_type": "stream",
     "text": [
      "[1, 2, 3, 4, 5, 6, 7, 8, 9, 10]\n",
      "===========================\n",
      "[1, 4, 7, 10]\n"
     ]
    }
   ],
   "source": [
    "arrofnum = [1,2,3,4,5,6,7,8,9,10]\n",
    "print(arrofnum)\n",
    "print(\"===========================\")\n",
    "# slicing a list with step\n",
    "print(arrofnum[::3])"
   ]
  },
  {
   "cell_type": "markdown",
   "id": "afcac576",
   "metadata": {},
   "source": [
    "### Functions to Strings"
   ]
  },
  {
   "cell_type": "code",
   "execution_count": 112,
   "id": "3b71c8dd",
   "metadata": {},
   "outputs": [
    {
     "name": "stdout",
     "output_type": "stream",
     "text": [
      "SALEM SAMEER\n",
      "salem sameer\n",
      "===========================\n",
      "Salem sameer\n",
      "Sam sameer\n"
     ]
    }
   ],
   "source": [
    "# Upper case function upper()\n",
    "name= \"Salem Sameer\"\n",
    "#name.upper()\n",
    "print(name.upper())\n",
    "\n",
    "# lower case function lower()\n",
    "# name.lower()\n",
    "print(name.lower())\n",
    "\n",
    "print(\"===========================\")\n",
    "# Capitalize the first letter of a string\n",
    "name2 = \"salem sameer\"\n",
    "# name2.capitalize()\n",
    "print(name2.capitalize())\n",
    "\n",
    "# replace function\n",
    "# name2.replace(\"salem\", \"Sam\")\n",
    "print(name2.replace(\"salem\", \"Sam\"))"
   ]
  },
  {
   "cell_type": "code",
   "execution_count": 113,
   "id": "5f35e782",
   "metadata": {},
   "outputs": [
    {
     "name": "stdout",
     "output_type": "stream",
     "text": [
      "Salem Sameer\n",
      "2\n"
     ]
    }
   ],
   "source": [
    "# title function\n",
    "name3 = \"salem sameer\"\n",
    "print(name3.title())\n",
    "\n",
    "# count function\n",
    "print(name3.count(\"s\")) # 2"
   ]
  },
  {
   "cell_type": "code",
   "execution_count": 114,
   "id": "a74e5808",
   "metadata": {},
   "outputs": [
    {
     "name": "stdout",
     "output_type": "stream",
     "text": [
      "86\n"
     ]
    }
   ],
   "source": [
    "my_string = \"0123456789\"\n",
    "print(my_string[-2:-6:-2]) # 02468"
   ]
  },
  {
   "cell_type": "code",
   "execution_count": 115,
   "id": "91411826",
   "metadata": {},
   "outputs": [],
   "source": [
    "# input function\n",
    "x= input(\"Enter your name: \")"
   ]
  },
  {
   "cell_type": "code",
   "execution_count": 116,
   "id": "150b019b",
   "metadata": {},
   "outputs": [
    {
     "name": "stdout",
     "output_type": "stream",
     "text": [
      "Hello salem Welcome to the class\n"
     ]
    }
   ],
   "source": [
    "username = x[:5]\n",
    "print(\"Hello\", username, \"Welcome to the class\")"
   ]
  },
  {
   "cell_type": "code",
   "execution_count": null,
<<<<<<< HEAD
   "id": "6bd04546",
   "metadata": {},
   "outputs": [],
   "source": [
    "print(\"===========================\")"
   ]
=======
   "id": "cd21a319",
   "metadata": {},
   "outputs": [],
   "source": [
    "print(\"123\")"
   ]
  },
  {
   "cell_type": "code",
   "execution_count": null,
   "id": "b0c162e7",
   "metadata": {},
   "outputs": [],
   "source": []
>>>>>>> c4d94d5f1ded1055f0202728b9f3f9972646191a
  }
 ],
 "metadata": {
  "kernelspec": {
   "display_name": "venv",
   "language": "python",
   "name": "python3"
  },
  "language_info": {
   "codemirror_mode": {
    "name": "ipython",
    "version": 3
   },
   "file_extension": ".py",
   "mimetype": "text/x-python",
   "name": "python",
   "nbconvert_exporter": "python",
   "pygments_lexer": "ipython3",
   "version": "3.12.4"
  }
 },
 "nbformat": 4,
 "nbformat_minor": 5
}
