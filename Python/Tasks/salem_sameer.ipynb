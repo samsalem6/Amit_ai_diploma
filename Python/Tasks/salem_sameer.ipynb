{
 "cells": [
  {
   "cell_type": "markdown",
   "id": "c25817b7",
   "metadata": {},
   "source": [
    "### Task 1\n",
    "\n",
    "##### Suppose you have this email address “Amit_ml@gmail.edu”"
   ]
  },
  {
   "cell_type": "code",
   "execution_count": 153,
   "id": "148f1773",
   "metadata": {},
   "outputs": [
    {
     "name": "stdout",
     "output_type": "stream",
     "text": [
      "Amit_ml@gmail.edu\n",
      "==========\n",
      "Valid email\n",
      "=====================\n",
      "['Amit_ml', 'gmail.edu']\n",
      "==========\n",
      "Username is : Amit_ml\n",
      "=====================\n",
      "['gmail', 'edu']\n",
      "==========\n",
      "Domain is : gmail\n",
      "=====================\n",
      "gmail.edu\n",
      "==========\n",
      "Educational Domain\n"
     ]
    }
   ],
   "source": [
    "# Solution\n",
    "\n",
    "'''- Input Validation: Check if the input string contains exactly one \"@\" symbol and \n",
    "at least one \".\" after the \"@\" symbol. If it's not a valid email, return \"Invalid \n",
    "email\". '''\n",
    "\n",
    "email = \"Amit_ml@gmail.edu\"\n",
    "print(email)\n",
    "print('==========')\n",
    "# Check if the email contains exactly one \"@\" symbol and at least one \".\" after it\n",
    "if email.count('@') != 1 or email.count('.') < 1:\n",
    "    print(\"Invalid email\")\n",
    "else:\n",
    "    print(\"Valid email\")\n",
    "\n",
    "print('=====================')\n",
    "\n",
    "''' - Extract Username: Extract and return the part of the email before the \"@\"\n",
    "symbol. '''\n",
    "\n",
    "# extract uesername from email\n",
    "username = email.split('@')\n",
    "print(username)\n",
    "print('==========')\n",
    "\n",
    "extracted_username = username[0]\n",
    "print(\"Username is :\", extracted_username)\n",
    "\n",
    "print('=====================')\n",
    "\n",
    "''' - Extract Domain: Extract and return the domain (the part between \"@\" and the last \".\") '''\n",
    "\n",
    "# extract domain from email\n",
    "domain = username[1]\n",
    "domain = domain.split('.')\n",
    "print(domain)\n",
    "print('==========')\n",
    "extracted_domain = domain[0]\n",
    "print(\"Domain is :\", extracted_domain)\n",
    "\n",
    "print('=====================')\n",
    "\n",
    "''' - Check for Domain Ending: Check if the email ends with \".com\". If it does, \n",
    "return \"Commercial Domain\". If it ends with \".edu\", return \"Educational Domain\". \n",
    "Otherwise, return \"Other Domain\".'''\n",
    "\n",
    "# check domain ending\n",
    "domain_check = username[1]\n",
    "print(domain_check)\n",
    "print('==========')\n",
    "if domain_check.endswith('.com'):\n",
    "    print(\"Commercial Domain\")\n",
    "elif domain_check.endswith('.edu'):\n",
    "    print(\"Educational Domain\")\n",
    "else:\n",
    "    print(\"Other Domain\")\n",
    "\n"
   ]
  },
  {
   "cell_type": "markdown",
   "id": "e8fc4bb3",
   "metadata": {},
   "source": [
    "### Task 2"
   ]
  },
  {
   "cell_type": "markdown",
   "id": "7627ab85",
   "metadata": {},
   "source": [
    "Encoded Message: ###!!@mocleW EPGTQ!!!6789"
   ]
  },
  {
   "cell_type": "code",
   "execution_count": 152,
   "id": "8122669a",
   "metadata": {},
   "outputs": [
    {
     "name": "stdout",
     "output_type": "stream",
     "text": [
      "###!!@mocleW EPGTQ!!!6789\n",
      "==========\n",
      "mocleW EPGTQ\n",
      "==========\n",
      "Welcome\n",
      "==========\n",
      "PGTQ\n",
      "==========\n",
      "Welcome PGTQ\n"
     ]
    }
   ],
   "source": [
    "# Steps to Decode:\n",
    "# 1. Extract the core part of the message: \"mocleW EPGTQ\".\n",
    "# 2. Reverse the first word: \"mocleW\" becomes \"Welcome\".\n",
    "# 3. Replace shifted vowels in the second word:\n",
    "# o \"EPGTQ\": No vowels to change.\n",
    "# 4. Final decoded message: \"Welcome PGTQ\".\n",
    "\n",
    "# Solution\n",
    "\n",
    "encoding_message = \"###!!@mocleW EPGTQ!!!6789\"\n",
    "print(encoding_message)\n",
    "print('==========')\n",
    "# Extract the core part of the message\n",
    "core_message = encoding_message[6:18]\n",
    "print(core_message)\n",
    "print('==========')\n",
    "# Reverse the first word\n",
    "reversed_first_word = core_message.split()[0][::-1] + \"e\"\n",
    "print(reversed_first_word)\n",
    "print('==========')\n",
    "# Replace shifted vowels in the second word\n",
    "# No vowels to change in \"EPGTQ\"\n",
    "shifted_second_word = core_message.split()[1]\n",
    "second_word = shifted_second_word[1:]\n",
    "print(second_word)\n",
    "print('==========')\n",
    "# Final decoded message\n",
    "decoded_message = reversed_first_word + \" \" + second_word\n",
    "print(decoded_message)"
   ]
  },
  {
   "cell_type": "markdown",
   "id": "e55107a1",
   "metadata": {},
   "source": [
    "### Task 3"
   ]
  },
  {
   "cell_type": "markdown",
   "id": "6e6e8b96",
   "metadata": {},
   "source": [
    "Encoded Message: &&&**$gnirtS PLIO!!@1234"
   ]
  },
  {
   "cell_type": "code",
   "execution_count": null,
   "id": "c62cfd96",
   "metadata": {},
   "outputs": [
    {
     "name": "stdout",
     "output_type": "stream",
     "text": [
      "&&&**$gnirtS PLIO!!@1234\n",
      "==========\n",
      "gnirtS PLIO\n",
      "==========\n",
      "String\n",
      "==========\n",
      "PLIO\n",
      "==========\n",
      "PLEU\n",
      "==========\n",
      "String PLEU\n"
     ]
    }
   ],
   "source": [
    "# Steps to Decode:\n",
    "# 1. Extract the core part of the message: \"gnirtS PLIO\".\n",
    "# 2. Reverse the first word: \"gnirtS\" becomes \"String\".\n",
    "# 3. Replace shifted vowels in the second word:\n",
    "# o \"PLIO\": Replace I->E and O->U to get \"PLEU\".\n",
    "# 4. Final decoded message: \"String PLEU\".\n",
    "\n",
    "# Solution\n",
    "\n",
    "encoding_message = \"&&&**$gnirtS PLIO!!@1234\"\n",
    "print(encoding_message)\n",
    "print('==========')\n",
    "# Extract the core part of the message\n",
    "core_message = encoding_message.strip(\"&*$!@1234\")\n",
    "print(core_message)\n",
    "print('==========')\n",
    "# Reverse the first word\n",
    "reversed_first_word = core_message.split()[0][::-1]\n",
    "print(reversed_first_word)\n",
    "print('==========')\n",
    "# Replace shifted vowels in the second word\n",
    "# Replace I->E and O->U to get \"PLEU\"\n",
    "shifted_second_word = core_message.split()[1]\n",
    "print(shifted_second_word)\n",
    "print('==========')\n",
    "second_word = shifted_second_word.replace(\"I\", \"E\").replace(\"O\", \"U\")\n",
    "print(second_word)\n",
    "print('==========')\n",
    "# Final decoded message\n",
    "decoded_message = f\"{reversed_first_word} {second_word}\"\n",
    "print(decoded_message)"
   ]
  },
  {
   "cell_type": "markdown",
   "id": "f8acc2a2",
   "metadata": {},
   "source": [
    "### Task 4"
   ]
  },
  {
   "cell_type": "markdown",
   "id": "e8dc9b4f",
   "metadata": {},
   "source": [
    "Encoded Message: ##$$$@!yalpstcejorp EPUVT****9887"
   ]
  },
  {
   "cell_type": "code",
   "execution_count": 155,
   "id": "283460b6",
   "metadata": {},
   "outputs": [
    {
     "name": "stdout",
     "output_type": "stream",
     "text": [
      "##$$$@!yalpstcejorp EPUVT****9887\n",
      "==========\n",
      "yalpstcejorp EPUVT\n",
      "==========\n",
      "projectsplay\n",
      "==========\n",
      "EPUVT\n",
      "==========\n",
      "APOVT\n",
      "==========\n",
      "projectsplay APOVT\n"
     ]
    }
   ],
   "source": [
    "# Steps to Decode:\n",
    "# 1. Extract the core part of the message: \"yalpstcejorp EPUVT\".\n",
    "# 2. Reverse the first word: \"yalpstcejorp\" becomes \"projectplay\".\n",
    "# 3. Replace shifted vowels in the second word:\n",
    "# o \"EPUVT\": Replace E->A, U->O to get \"APOVT\".\n",
    "# 4. Final decoded message: \"projectplay APTOV\".\n",
    "\n",
    "# Solution\n",
    "\n",
    "encoding_message = \"##$$$@!yalpstcejorp EPUVT****9887\"\n",
    "print(encoding_message)\n",
    "print('==========')\n",
    "# Extract the core part of the message\n",
    "core_message = encoding_message.strip(\"#$@!*987\")\n",
    "print(core_message)\n",
    "print('==========')\n",
    "# Reverse the first word\n",
    "reversed_first_word = core_message.partition(\"yalpstcejorp\")[1][::-1]\n",
    "print(reversed_first_word)\n",
    "print('==========')\n",
    "# Replace shifted vowels in the second word\n",
    "# Replace E->A, U->O to get \"APOVT\"\n",
    "shifted_second_word = core_message.partition(\"EPUVT\")[1]\n",
    "print(shifted_second_word)\n",
    "print('==========')\n",
    "second_word = shifted_second_word.replace(\"E\", \"A\").replace(\"U\", \"O\")\n",
    "print(second_word)\n",
    "print('==========')\n",
    "# Final decoded message\n",
    "decoded_message = f\"{reversed_first_word} {second_word}\"\n",
    "print(decoded_message)"
   ]
  },
  {
   "cell_type": "markdown",
   "id": "d9bc3b85",
   "metadata": {},
   "source": [
    "### Task 5"
   ]
  },
  {
   "cell_type": "markdown",
   "id": "e700ce5e",
   "metadata": {},
   "source": [
    "#### Create a New GitHub Repository and Set Up Your Project Structure\n",
    "You will create a new GitHub repository named Amit and set up the following folder structure \n",
    "for a Python project focused on Machine Learning."
   ]
  },
  {
   "cell_type": "code",
   "execution_count": 156,
   "id": "8d48db37",
   "metadata": {},
   "outputs": [],
   "source": [
    "# Instructions:\n",
    "\n",
    "# 1. Create a New GitHub Repository:\n",
    "    # o Go to GitHub.\n",
    "    # o Log in to your account.\n",
    "    # o Click on the \"+\" icon in the top right corner and select \"New repository.\"\n",
    "    # o Name your repository Amit.\n",
    "    # o Add a description (optional) and choose whether to make it public or private.\n",
    "    # o Click on \"Create repository.\"\n",
    "# 2. Clone the Repository to Your Local Machine:\n",
    "    # o Open VSCode.\n",
    "    # o Open the terminal in VSCode (View > Terminal).\n",
    "    # o Run the following command to clone your repository (replace <your-username>\n",
    "    # with your GitHub username):\n",
    "    # bash\n",
    "    # Copy code\n",
    "    # git clone https://github.com/<your-username>/Amit.git\n",
    "    # o Navigate into the cloned repository:\n",
    "    # bash\n",
    "    # Copy code\n",
    "    # cd Amit\n",
    "# 3. Create the Folder Structure:\n",
    "    # o Inside the Amit folder, create a folder named python-for-ml. You can do this in \n",
    "    # the terminal:\n",
    "    # bash\n",
    "    # Copy code\n",
    "    # mkdir python-for-ml\n",
    "# 4. Create a README File:\n",
    "    # o In the root of the Amit repository, create a file named README.md:\n",
    "    # bash\n",
    "    # Copy code\n",
    "    # touch README.md\n",
    "    # o Open README.md in VSCode and add the following content:\n",
    "    # markdown\n",
    "    # Copy code\n",
    "    # ### Amit Repository\n",
    "    # #### Project Overview\n",
    "    # This repository is designed for Python projects related to \n",
    "    # Machine Learning.\n",
    "    # #### Folder Structure\n",
    "    # - `python-for-ml/`: Contains Python scripts and resources for \n",
    "    # Machine Learning.\n",
    "    # #### Getting Started\n",
    "    # To get started with this project, clone the repository and \n",
    "    # navigate to the `python-for-ml` folder.\n",
    "# 5. Stage and Commit Your Changes:\n",
    "    # o In the terminal, stage the changes:\n",
    "    # bash\n",
    "    # Copy code\n",
    "    # git add .\n",
    "    # o Commit the changes with a message:\n",
    "    # bash\n",
    "    # Copy code\n",
    "    # git commit -m \"Initial setup: Created folder structure and README \n",
    "    # file\"\n",
    "# 6. Push Changes to GitHub:\n",
    "    # o Push your changes to the GitHub repository:\n",
    "    # bash\n",
    "    # Copy code\n",
    "    # git push origin main\n",
    "# 7. Verify Your Changes on GitHub:\n",
    "    # o Go back to your GitHub repository in your browser and refresh the page to see the \n",
    "    # new folder structure and the README file."
   ]
  },
  {
   "cell_type": "markdown",
   "id": "92e66e6a",
   "metadata": {},
   "source": [
    "## Repo Url\n",
    "https://github.com/samsalem6/Amit"
   ]
  }
 ],
 "metadata": {
  "kernelspec": {
   "display_name": "venv",
   "language": "python",
   "name": "python3"
  },
  "language_info": {
   "codemirror_mode": {
    "name": "ipython",
    "version": 3
   },
   "file_extension": ".py",
   "mimetype": "text/x-python",
   "name": "python",
   "nbconvert_exporter": "python",
   "pygments_lexer": "ipython3",
   "version": "3.12.4"
  }
 },
 "nbformat": 4,
 "nbformat_minor": 5
}
