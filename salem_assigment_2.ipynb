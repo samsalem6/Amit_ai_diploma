{
 "cells": [
  {
   "cell_type": "markdown",
   "id": "753d0568",
   "metadata": {},
   "source": [
    "## Assiment 2\n"
   ]
  },
  {
   "cell_type": "markdown",
   "id": "26da0758",
   "metadata": {},
   "source": [
    "#### 1. Write a Python program to add an item to a tuple."
   ]
  },
  {
   "cell_type": "code",
   "execution_count": 1,
   "id": "7286c075",
   "metadata": {},
   "outputs": [
    {
     "name": "stdout",
     "output_type": "stream",
     "text": [
      "('Arabic', 'English', 'Spanish', 'German')\n"
     ]
    }
   ],
   "source": [
    "lang = (\"Arabic\", \"English\", \"Spanish\")\n",
    "\n",
    "lang_to_list = list(lang)\n",
    "\n",
    "lang_to_list.append(\"German\")\n",
    "\n",
    "convert_list = tuple(lang_to_list)\n",
    "\n",
    "\n",
    "print(convert_list)"
   ]
  },
  {
   "cell_type": "markdown",
   "id": "1b627aba",
   "metadata": {},
   "source": [
    "#### 2. Write a Python program to sum all the items in a list."
   ]
  },
  {
   "cell_type": "code",
   "execution_count": 26,
   "id": "77a5fb85",
   "metadata": {},
   "outputs": [
    {
     "name": "stdout",
     "output_type": "stream",
     "text": [
      "sum all the items = 29\n"
     ]
    }
   ],
   "source": [
    "list_of_number = [2,4,6,8,9]\n",
    "num_sum = 0\n",
    "# print(sum(list_of_number))\n",
    "\n",
    "for num in list_of_number:\n",
    "    num_sum += num\n",
    "\n",
    "print(f\"sum all the items = {num_sum}\")"
   ]
  },
  {
   "cell_type": "markdown",
   "id": "d85aa91b",
   "metadata": {},
   "source": [
    "#### 3. Write a Python program to multiply all the items in a list."
   ]
  },
  {
   "cell_type": "code",
   "execution_count": null,
   "id": "fa54b9da",
   "metadata": {},
   "outputs": [
    {
     "name": "stdout",
     "output_type": "stream",
     "text": [
      "multiply all the items = 3456\n"
     ]
    }
   ],
   "source": [
    "list_of_number = [2,4,6,8,9]\n",
    "\n",
    "mult_num = 1\n",
    "\n",
    "for num in list_of_number:\n",
    "    mult_num *= num\n",
    "\n",
    "print(f\"multiply all the items = {mult_num}\")"
   ]
  },
  {
   "cell_type": "markdown",
   "id": "4e9ba263",
   "metadata": {},
   "source": [
    "#### 4. Write a Python program to get the smallest number from a list.\n"
   ]
  },
  {
   "cell_type": "code",
   "execution_count": 27,
   "id": "8f32cac9",
   "metadata": {},
   "outputs": [
    {
     "name": "stdout",
     "output_type": "stream",
     "text": [
      "[2, 4, 6, 7, 8, 12, 22, 80]\n",
      "the smallest number is = 2\n"
     ]
    }
   ],
   "source": [
    "list_of_number = [12,22,80,2,4,6,8,7]\n",
    "\n",
    "list_of_number.sort()\n",
    "\n",
    "smallest_number = list_of_number[0]\n",
    "\n",
    "print(list_of_number)\n",
    "print(f\"the smallest number is = {smallest_number}\")"
   ]
  },
  {
   "cell_type": "markdown",
   "id": "eb10b3cb",
   "metadata": {},
   "source": [
    "#### 5. Write a Python program to get the largest number from a list.\n"
   ]
  },
  {
   "cell_type": "code",
   "execution_count": 29,
   "id": "b73ed63d",
   "metadata": {},
   "outputs": [
    {
     "name": "stdout",
     "output_type": "stream",
     "text": [
      "[80, 22, 12, 8, 7, 6, 4, 2]\n",
      "the largest number is = 80\n"
     ]
    }
   ],
   "source": [
    "list_of_number = [12,22,80,2,4,6,8,7]\n",
    "\n",
    "list_of_number.sort(reverse= True)\n",
    "\n",
    "largest_number = list_of_number[0]\n",
    "\n",
    "print(list_of_number)\n",
    "print(f\"the largest number is = {largest_number}\")"
   ]
  },
  {
   "cell_type": "markdown",
   "id": "ef828177",
   "metadata": {},
   "source": [
    "#### 6. Write a Python program to count the number of strings from a given list of strings.\n"
   ]
  },
  {
   "cell_type": "code",
   "execution_count": 30,
   "id": "a4d87540",
   "metadata": {},
   "outputs": [
    {
     "data": {
      "text/plain": [
       "4"
      ]
     },
     "execution_count": 30,
     "metadata": {},
     "output_type": "execute_result"
    }
   ],
   "source": [
    "list_of_strings = [\"Ai\", \"PHP\", \"Python\", \"Javascript\"]\n",
    "\n",
    "len(list_of_strings)\n"
   ]
  },
  {
   "cell_type": "markdown",
   "id": "b9612653",
   "metadata": {},
   "source": [
    "#### 7. Write a Python program to clone or copy a list\n"
   ]
  },
  {
   "cell_type": "code",
   "execution_count": 2,
   "id": "b88262f1",
   "metadata": {},
   "outputs": [
    {
     "name": "stdout",
     "output_type": "stream",
     "text": [
      "[2, 3, 4, 'AI', 'PHP', 5, 6, 8]\n"
     ]
    }
   ],
   "source": [
    "clone_list = [2,3,4,\"AI\",\"PHP\",5,6,8]\n",
    "\n",
    "new_list = clone_list.copy()\n",
    "\n",
    "print(new_list)"
   ]
  },
  {
   "cell_type": "markdown",
   "id": "50e40ef5",
   "metadata": {},
   "source": [
    "#### 8. Write a Python program to remove item(s) from a given set.\n"
   ]
  },
  {
   "cell_type": "code",
   "execution_count": 4,
   "id": "c92d5216",
   "metadata": {},
   "outputs": [
    {
     "name": "stdout",
     "output_type": "stream",
     "text": [
      "{'javascript', 'Python', 'Php', 'Ai'}\n",
      "{'javascript', 'Python', 'Ai'}\n"
     ]
    }
   ],
   "source": [
    "set_one = {\"Ai\", \"Php\", \"Python\", \"javascript\"}\n",
    "print(set_one)\n",
    "\n",
    "set_one.remove(\"Php\")\n",
    "\n",
    "print(set_one)"
   ]
  },
  {
   "cell_type": "markdown",
   "id": "c30e3ca0",
   "metadata": {},
   "source": [
    "##### 9. Write a Python program to check if a set is a subset of another set."
   ]
  },
  {
   "cell_type": "code",
   "execution_count": 32,
   "id": "ffec8a91",
   "metadata": {},
   "outputs": [
    {
     "name": "stdout",
     "output_type": "stream",
     "text": [
      "this is a subset\n"
     ]
    }
   ],
   "source": [
    "main_set = {\"Ai\", \"Php\", \"laravel\",\"prompt\", \"machine learning\"}\n",
    "\n",
    "secound_set = {\"java\",\"rudy\",\"go\",\"typescript\",\"Ai\", \"Php\", \"laravel\",\"prompt\", \"machine learning\"}\n",
    "\n",
    "# sub_set = main_set.issubset(secound_set)\n",
    "\n",
    "# print(sub_set)\n",
    "\n",
    "if secound_set >= main_set:\n",
    "    print(\"this is a subset\")\n",
    "else:\n",
    "    print(\"this is not a subset\")\n"
   ]
  },
  {
   "cell_type": "markdown",
   "id": "692432f7",
   "metadata": {},
   "source": [
    "##### 10. Write a Python program to remove all elements from a given set."
   ]
  },
  {
   "cell_type": "code",
   "execution_count": 30,
   "id": "989c978f",
   "metadata": {},
   "outputs": [
    {
     "name": "stdout",
     "output_type": "stream",
     "text": [
      "{'laravel', 'Php', 'Ai', 'machine learning', 'prompt'}\n",
      "set()\n"
     ]
    }
   ],
   "source": [
    "main_set = {\"Ai\", \"Php\", \"laravel\",\"prompt\", \"machine learning\"}\n",
    "\n",
    "print(main_set)\n",
    "\n",
    "main_set.clear()\n",
    "\n",
    "print(main_set)\n"
   ]
  },
  {
   "cell_type": "markdown",
   "id": "f1f4cfb0",
   "metadata": {},
   "source": [
    "##### 11. Write a Python program to find the maximum and minimum values in a set."
   ]
  },
  {
   "cell_type": "code",
   "execution_count": 41,
   "id": "e21807a6",
   "metadata": {},
   "outputs": [
    {
     "name": "stdout",
     "output_type": "stream",
     "text": [
      "{67, 100, 54, 344, 9, 45}\n",
      "[9, 45, 54, 67, 100, 344]\n",
      "the maximum value is 344 and the minimum value is 9\n"
     ]
    }
   ],
   "source": [
    "word_set = {100,45,54,344,9,67}\n",
    "\n",
    "print(word_set)\n",
    "\n",
    "set_to_list = list(word_set)\n",
    "\n",
    "set_to_list.sort()\n",
    "\n",
    "print(set_to_list)\n",
    "\n",
    "max_value = set_to_list[-1]\n",
    "min_value = set_to_list[0]\n",
    "\n",
    "print(f\"the maximum value is {max_value} and the minimum value is {min_value}\")"
   ]
  },
  {
   "cell_type": "markdown",
   "id": "d24e0668",
   "metadata": {},
   "source": [
    "##### 12. Write a Python program to find the index of an item in a tuple."
   ]
  },
  {
   "cell_type": "code",
   "execution_count": 45,
   "id": "8dd2d0cd",
   "metadata": {},
   "outputs": [
    {
     "name": "stdout",
     "output_type": "stream",
     "text": [
      "the index of an item is 2\n"
     ]
    }
   ],
   "source": [
    "numbers = (20,30,40,60,80,90)\n",
    "\n",
    "find_index = numbers.index(40)\n",
    "\n",
    "print(f\"the index of an item is {find_index}\")"
   ]
  },
  {
   "cell_type": "markdown",
   "id": "bf5c338a",
   "metadata": {},
   "source": [
    "##### 13. Write a Python program to convert a tuple to a dictionary."
   ]
  },
  {
   "cell_type": "code",
   "execution_count": 76,
   "id": "5aea28b1",
   "metadata": {},
   "outputs": [
    {
     "name": "stdout",
     "output_type": "stream",
     "text": [
      "{'k1': 30, 'k2': 60}\n"
     ]
    }
   ],
   "source": [
    "numbers = ((\"k1\",30),(\"k2\",60))\n",
    "\n",
    "convert_to_dict = dict(numbers)\n",
    "\n",
    "print(convert_to_dict)"
   ]
  },
  {
   "cell_type": "markdown",
   "id": "72f9a149",
   "metadata": {},
   "source": [
    "##### 14. Write a Python program to unzip a list of tuples into individual lists."
   ]
  },
  {
   "cell_type": "code",
   "execution_count": 61,
   "id": "d2f54fef",
   "metadata": {},
   "outputs": [
    {
     "name": "stdout",
     "output_type": "stream",
     "text": [
      "[(20, 30), (40, 60), (80, 90)]\n",
      "[20, 30]\n",
      "[40, 60]\n",
      "[80, 90]\n"
     ]
    }
   ],
   "source": [
    "numbers = [(20,30),(40,60),(80,90)]\n",
    "list_of_tuple = []\n",
    "print(numbers)\n",
    "\n",
    "for t in numbers:\n",
    "    list_of_tuple = list(t)\n",
    "    print(list_of_tuple)\n"
   ]
  },
  {
   "cell_type": "markdown",
   "id": "c0e6e95b",
   "metadata": {},
   "source": [
    "##### 15. Write a Python program to reverse a tuple."
   ]
  },
  {
   "cell_type": "code",
   "execution_count": 67,
   "id": "8989ba4a",
   "metadata": {},
   "outputs": [
    {
     "name": "stdout",
     "output_type": "stream",
     "text": [
      "('Ai', 'Php', 'laravel', 'prompt', 'machine learning')\n",
      "('machine learning', 'prompt', 'laravel', 'Php', 'Ai')\n"
     ]
    }
   ],
   "source": [
    "main_tup = (\"Ai\", \"Php\", \"laravel\",\"prompt\", \"machine learning\")\n",
    "print(main_tup)\n",
    "\n",
    "tup_to_list = list(main_tup)\n",
    "tup_to_list.reverse()\n",
    "print(tuple(tup_to_list))"
   ]
  },
  {
   "cell_type": "markdown",
   "id": "5ffcf6b9",
   "metadata": {},
   "source": [
    "##### 16. Write a Python program to convert a list of tuples into a dictionary"
   ]
  },
  {
   "cell_type": "code",
   "execution_count": 71,
   "id": "8e0c54c1",
   "metadata": {},
   "outputs": [
    {
     "name": "stdout",
     "output_type": "stream",
     "text": [
      "{'k2': 30, 'k4': 60, '6': 90}\n"
     ]
    }
   ],
   "source": [
    "numbers = [(\"k2\",30),(\"k4\",60),(\"6\",90)]\n",
    "\n",
    "convert_to_dict = dict(numbers)\n",
    "\n",
    "print(convert_to_dict)"
   ]
  },
  {
   "cell_type": "markdown",
   "id": "5d561e3c",
   "metadata": {},
   "source": [
    "##### 17. Write a Python program to replace the last value of tuples in a list"
   ]
  },
  {
   "cell_type": "code",
   "execution_count": 164,
   "id": "b4f5004d",
   "metadata": {},
   "outputs": [
    {
     "name": "stdout",
     "output_type": "stream",
     "text": [
      "[(20, 100), (40, 100), (80, 100)]\n"
     ]
    }
   ],
   "source": [
    "num_of_tuples = [(20,30),(40,60),(80,90)]\n",
    "last_values= 0\n",
    "list_of_last_values = []\n",
    "for num in num_of_tuples:\n",
    "    to_list = list(num)\n",
    "    to_list[-1] = 100\n",
    "    tup = tuple(to_list)\n",
    "    list_of_last_values.append(tup)\n",
    "    \n",
    "\n",
    "print(list_of_last_values)\n"
   ]
  },
  {
   "cell_type": "markdown",
   "id": "af4c84ba",
   "metadata": {},
   "source": [
    "##### 18. Write a Python program to sort a tuple by its float element."
   ]
  },
  {
   "cell_type": "code",
   "execution_count": 219,
   "id": "d53c1249",
   "metadata": {},
   "outputs": [
    {
     "name": "stdout",
     "output_type": "stream",
     "text": [
      "[('k1', 100), ('k2', 30), ('k5', 90), ('k4', 60)]\n",
      "(('k2', 30), ('k4', 60), ('k5', 90), ('k1', 100))\n"
     ]
    }
   ],
   "source": [
    "tup = ((\"k1\", 100),(\"k2\",30),(\"k5\",90),(\"k4\",60))\n",
    "\n",
    "tup_to_list = list(tup)\n",
    "\n",
    "print(tup_to_list)\n",
    "\n",
    "def get_float_value(item):\n",
    "    return item[1]\n",
    "\n",
    "tup_to_list.sort(key=get_float_value)\n",
    "\n",
    "sorted_tuple = tuple(tup_to_list)\n",
    "\n",
    "print(sorted_tuple)\n",
    "\n",
    "\n"
   ]
  },
  {
   "cell_type": "code",
   "execution_count": null,
   "id": "ef46a8c3",
   "metadata": {},
   "outputs": [],
   "source": []
  }
 ],
 "metadata": {
  "kernelspec": {
   "display_name": "venv",
   "language": "python",
   "name": "python3"
  },
  "language_info": {
   "codemirror_mode": {
    "name": "ipython",
    "version": 3
   },
   "file_extension": ".py",
   "mimetype": "text/x-python",
   "name": "python",
   "nbconvert_exporter": "python",
   "pygments_lexer": "ipython3",
   "version": "3.12.4"
  }
 },
 "nbformat": 4,
 "nbformat_minor": 5
}
