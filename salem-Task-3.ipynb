{
 "cells": [
  {
   "cell_type": "markdown",
   "metadata": {},
   "source": [
    "# Task 1.\n",
    "- Calculate Factorial using recursion"
   ]
  },
  {
   "cell_type": "code",
   "execution_count": 6,
   "metadata": {},
   "outputs": [
    {
     "data": {
      "text/plain": [
       "5"
      ]
     },
     "execution_count": 6,
     "metadata": {},
     "output_type": "execute_result"
    }
   ],
   "source": [
    "def factorial(num):\n",
    "    if num == 0:\n",
    "        return 0\n",
    "    if num == 1:\n",
    "        return 1\n",
    "    return num * factorial(num -1 )\n",
    "\n",
    "factorial(5)"
   ]
  },
  {
   "cell_type": "code",
   "execution_count": null,
   "metadata": {},
   "outputs": [],
   "source": []
  },
  {
   "cell_type": "code",
   "execution_count": null,
   "metadata": {},
   "outputs": [
    {
     "ename": "TypeError",
     "evalue": "Recursion.factorial() takes 1 positional argument but 2 were given",
     "output_type": "error",
     "traceback": [
      "\u001b[31m---------------------------------------------------------------------------\u001b[39m",
      "\u001b[31mTypeError\u001b[39m                                 Traceback (most recent call last)",
      "\u001b[36mCell\u001b[39m\u001b[36m \u001b[39m\u001b[32mIn[6]\u001b[39m\u001b[32m, line 32\u001b[39m\n\u001b[32m     30\u001b[39m \u001b[38;5;66;03m#### test your class \u001b[39;00m\n\u001b[32m     31\u001b[39m \u001b[38;5;28;01mif\u001b[39;00m \u001b[34m__name__\u001b[39m == \u001b[33m\"\u001b[39m\u001b[33m__main__\u001b[39m\u001b[33m\"\u001b[39m:\n\u001b[32m---> \u001b[39m\u001b[32m32\u001b[39m     fact = \u001b[43mRecursion\u001b[49m\u001b[43m(\u001b[49m\u001b[32;43m5\u001b[39;49m\u001b[43m)\u001b[49m\u001b[43m.\u001b[49m\u001b[43mfactorial\u001b[49m\u001b[43m(\u001b[49m\u001b[32;43m5\u001b[39;49m\u001b[43m)\u001b[49m\n\u001b[32m     33\u001b[39m     \u001b[38;5;28mprint\u001b[39m(fact)\n",
      "\u001b[31mTypeError\u001b[39m: Recursion.factorial() takes 1 positional argument but 2 were given"
     ]
    }
   ],
   "source": [
    "#### your class here\n",
    "\n",
    "\"\"\"\n",
    "class to calculate factorial using Recursion\n",
    "\n",
    "Attributes:\n",
    "number (int): The number to be checked\n",
    "\"\"\"\n",
    "\n",
    "class Recursion:\n",
    "    def __init__(self, num):\n",
    "        self.num = num\n",
    "        # pass\n",
    "    \n",
    "    def factorial(self):\n",
    "        \"\"\"\n",
    "            function to calculate factorial using Recursion\n",
    "            type param: int\n",
    "            return the factorial operation\n",
    "            r_type: int\n",
    "        \"\"\"\n",
    "        if self.num == 0:\n",
    "            return 0\n",
    "        if self.num == 1:\n",
    "            return 1\n",
    "        return self.num * self.factorial(self.num - 1)\n",
    "\n",
    "\n",
    "\n",
    "#### test your class \n",
    "if __name__ == \"__main__\":\n",
    "    fact = Recursion(5).factorial()\n",
    "    print(fact)"
   ]
  },
  {
   "cell_type": "markdown",
   "metadata": {},
   "source": [
    "# Task 2.\n",
    "- Write a function that takes a number and return True if this number is prime and False if not."
   ]
  },
  {
   "cell_type": "code",
   "execution_count": 4,
   "metadata": {},
   "outputs": [
    {
     "data": {
      "text/plain": [
       "False"
      ]
     },
     "execution_count": 4,
     "metadata": {},
     "output_type": "execute_result"
    }
   ],
   "source": [
    "def isPrime(num):\n",
    "    for i in range(2, num):\n",
    "        if num % i == 0:\n",
    "            return False\n",
    "    return True\n",
    "\n",
    "isPrime(20)"
   ]
  },
  {
   "cell_type": "code",
   "execution_count": null,
   "metadata": {},
   "outputs": [
    {
     "name": "stdout",
     "output_type": "stream",
     "text": [
      "True\n"
     ]
    }
   ],
   "source": [
    "####  hint this task solved \n",
    "\n",
    "\"\"\"\n",
    "    class to check the prime numbers\n",
    "\n",
    "    Attributes:\n",
    "    number (int): The number to be checked\n",
    "\"\"\"\n",
    "\n",
    "\n",
    "class isprime:\n",
    "    def __init__(self, num):\n",
    "        \n",
    "        self.num = num\n",
    "    def is_prime(self):\n",
    "        \"\"\"\n",
    "            function to check the prime numbers\n",
    "            type param: int\n",
    "            return the prime numbers check\n",
    "            r_type: bool\n",
    "        \"\"\"\n",
    "        for i in range(2, self.num):\n",
    "    \n",
    "            if self.num % i == 0:\n",
    "                return False\n",
    "        return True\n",
    "\n",
    "#### test your class \n",
    "if __name__ == \"__main__\":\n",
    "    is_prime = isprime(11).is_prime()\n",
    "    print(is_prime)\n",
    "        \n",
    "        "
   ]
  },
  {
   "cell_type": "markdown",
   "metadata": {},
   "source": [
    "# Task 3.\n",
    "- Write a function that takes two numbers and return a list of common dividors"
   ]
  },
  {
   "cell_type": "code",
   "execution_count": 38,
   "metadata": {},
   "outputs": [
    {
     "data": {
      "text/plain": [
       "[1, 2, 5, 10]"
      ]
     },
     "execution_count": 38,
     "metadata": {},
     "output_type": "execute_result"
    }
   ],
   "source": [
    "def dividors(num1, num2):\n",
    "    mn = min(num1, num2)\n",
    "    common_dividors = []\n",
    "    for i in range(1, mn+1):\n",
    "        if num1 % i == 0 and num2 % i ==0:\n",
    "            common_dividors.append(i)\n",
    "    return common_dividors\n",
    "\n",
    "dividors(20, 10)"
   ]
  },
  {
   "cell_type": "code",
   "execution_count": 7,
   "metadata": {},
   "outputs": [
    {
     "name": "stdout",
     "output_type": "stream",
     "text": [
      "[1, 2, 5, 10]\n"
     ]
    }
   ],
   "source": [
    "#### your class here\n",
    "\n",
    "\"\"\"\n",
    "    class to get common Dividors \n",
    "\n",
    "    Attributes:\n",
    "    number1 (int): The number to be checked\n",
    "    number2 (int): The number to be checked\n",
    "\"\"\"\n",
    "\n",
    "\n",
    "class Dividors:\n",
    "\n",
    "    common_dividors = []\n",
    "    def __init__(self, num1, num2):\n",
    "        self.num1 = num1\n",
    "        self.num2 = num2\n",
    "\n",
    "    def dividors(self):\n",
    "        \"\"\"Calculate common divisors between two numbers\n",
    "    \n",
    "            This method finds all numbers that evenly divide both num1 and num2.\n",
    "            It iterates from 1 up to the smaller of the two numbers and checks\n",
    "            which values are divisors of both numbers.\n",
    "\n",
    "            Returns:\n",
    "            list: A list containing all common divisors of num1 and num2\n",
    "                in ascending order\n",
    "        \"\"\"\n",
    "        mn = min(self.num1, self.num2)\n",
    "        # common_dividors = []\n",
    "        for i in range(1, mn+1):\n",
    "            if self.num1 % i == 0 and self.num2 % i ==0:\n",
    "                self.common_dividors.append(i)\n",
    "        return self.common_dividors\n",
    "\n",
    "\n",
    "#### test your class \n",
    "if __name__ == \"__main__\":\n",
    "    dividors = Dividors(20, 10).dividors()\n",
    "    print(dividors)"
   ]
  },
  {
   "cell_type": "code",
   "execution_count": null,
   "metadata": {},
   "outputs": [],
   "source": [
    "eveen=[]\n",
    "def even_fun(num):\n",
    "    for i in range(num+1):\n",
    "        if i % 2 == 0:\n",
    "            eveen.append(i)\n",
    "    return eveen"
   ]
  },
  {
   "cell_type": "code",
   "execution_count": null,
   "metadata": {},
   "outputs": [
    {
     "name": "stdout",
     "output_type": "stream",
     "text": [
      "[0, 2, 4, 6, 8, 10]\n"
     ]
    }
   ],
   "source": [
    "#### your class here\n",
    "\n",
    "\"\"\"\n",
    "A class that finds all even numbers up to a given number\n",
    "\n",
    "Attributes:\n",
    "    eveeen (list): Class variable to store even numbers\n",
    "    num (int): The upper limit number to check for even numbers\n",
    "\"\"\"\n",
    "\n",
    "\n",
    "class Even:\n",
    "    eveeen=[]\n",
    "    def __init__(self, num):\n",
    "        self.num = num\n",
    "    \n",
    "    def even_fun(self):\n",
    "        \"\"\"Find all even numbers from 0 to num\n",
    "        \n",
    "        Iterates through numbers from 0 to num and checks if each number\n",
    "        is even by using the modulo operator. Even numbers are added to\n",
    "        the eveeen list.\n",
    "        \n",
    "        Returns:\n",
    "            list: A list containing all even numbers from 0 to num\n",
    "        \"\"\"\n",
    "        for i in range(self.num+1):\n",
    "            if i % 2==0:\n",
    "                self.eveeen.append(i)\n",
    "        return self.eveeen\n",
    "        \n",
    "\n",
    "\n",
    "\n",
    "#### test your class \n",
    "if __name__ == \"__main__\":\n",
    "    eveen = Even(10).even_fun()\n",
    "    print(eveen)"
   ]
  },
  {
   "cell_type": "markdown",
   "metadata": {},
   "source": [
    "# Task 4. \n",
    "- Given two strings, write a program that efficiently finds the longest common subsequence\n",
    "\n",
    "- **Ex:** str1 = \"Welcome to Machine Learning Diploma\" str2 = \"I am studying a Machine Learning Course\" --> Machine Learning"
   ]
  },
  {
   "cell_type": "code",
   "execution_count": 3,
   "metadata": {},
   "outputs": [
    {
     "data": {
      "text/plain": [
       "str"
      ]
     },
     "execution_count": 3,
     "metadata": {},
     "output_type": "execute_result"
    }
   ],
   "source": [
    "longes_str = \"\"\n",
    "type(longes_str)"
   ]
  },
  {
   "cell_type": "markdown",
   "metadata": {},
   "source": [
    "### first convert to function then to class design"
   ]
  },
  {
   "cell_type": "code",
   "execution_count": null,
   "metadata": {},
   "outputs": [
    {
     "name": "stdout",
     "output_type": "stream",
     "text": [
      "d\n",
      "dg\n",
      "dgd\n",
      "g\n",
      "gd\n",
      "d\n"
     ]
    },
    {
     "data": {
      "text/plain": [
       "'g'"
      ]
     },
     "execution_count": 2,
     "metadata": {},
     "output_type": "execute_result"
    }
   ],
   "source": [
    "str1 = input()\n",
    "str2 = input()\n",
    "\n",
    "longes_str = \"\"\n",
    "for i in range(len(str1)):\n",
    "    # print(i)\n",
    "    for j in range(i, len(str1)):\n",
    "        # print(j)\n",
    "        sub_str = str1[i:j+1]\n",
    "        print(sub_str)\n",
    "        if sub_str in str2:\n",
    "            if len(sub_str) > len(longes_str):\n",
    "                \n",
    "                longes_str = sub_str\n",
    "longes_str"
   ]
  },
  {
   "cell_type": "code",
   "execution_count": null,
   "metadata": {},
   "outputs": [
    {
     "name": "stdout",
     "output_type": "stream",
     "text": [
      " Machine Learning \n"
     ]
    }
   ],
   "source": [
    "#### your class here\n",
    "\n",
    "\"\"\"\n",
    "A class to find the longest common substring between two strings\n",
    "\n",
    "This class implements an algorithm to find the longest contiguous sequence\n",
    "of characters that appears in both input strings.\n",
    "\n",
    "Attributes:\n",
    "    str1 (str): First input string to compare\n",
    "    str2 (str): Second input string to compare\n",
    "\"\"\"\n",
    "\n",
    "\n",
    "class CommonString:\n",
    "    def __init__(self, str1, str2):\n",
    "        self.str1 = str1\n",
    "        self.str2 = str2\n",
    "\n",
    "    def common_words(self):\n",
    "        \"\"\"Find the longest common substring between str1 and str2\n",
    "        \n",
    "        Implements a sliding window approach:\n",
    "        1. Iterates through all possible starting positions in str1\n",
    "        2. For each start position, tries increasingly longer substrings\n",
    "        3. Checks if each substring exists in str2\n",
    "        4. Keeps track of the longest matching substring found\n",
    "        \n",
    "        Returns:\n",
    "            str: The longest common substring between str1 and str2.\n",
    "                Returns empty string if no common substring exists.\n",
    "        \"\"\"\n",
    "        longes_str = \"\"\n",
    "\n",
    "        for i in range(len(self.str1)):\n",
    "            for j in range(i, len(self.str1)):\n",
    "                substr = self.str1[i:j+1]\n",
    "                # print(substr)\n",
    "                if substr in self.str2:\n",
    "                    if len(substr) > len(longes_str):\n",
    "                        # print(\"substr is longer than longes_str\") \n",
    "                        longes_str = substr\n",
    "        return longes_str\n",
    "\n",
    "\n",
    "\n",
    "#### test your class \n",
    "if __name__ == \"__main__\":\n",
    "    str1 = input()\n",
    "    str2 = input()\n",
    "    comm_str = CommonString(str1, str2).common_words()\n",
    "    print(comm_str)"
   ]
  },
  {
   "cell_type": "markdown",
   "metadata": {},
   "source": [
    "# Task 5.\n",
    "- Write a function that will take a given string and reverse the order of words.\n",
    "\n",
    "- **Ex:** “Hello world” → ”world Hello”\n"
   ]
  },
  {
   "cell_type": "code",
   "execution_count": 5,
   "metadata": {},
   "outputs": [
    {
     "name": "stdout",
     "output_type": "stream",
     "text": [
      "['hello', 'woeld']\n"
     ]
    },
    {
     "data": {
      "text/plain": [
       "['woeld', 'hello']"
      ]
     },
     "execution_count": 5,
     "metadata": {},
     "output_type": "execute_result"
    }
   ],
   "source": [
    "s=\"hello woeld\"\n",
    "lst=s.split(\" \")\n",
    "print(lst)\n",
    "new_list=lst[::-1]\n",
    "new_list"
   ]
  },
  {
   "cell_type": "code",
   "execution_count": null,
   "metadata": {},
   "outputs": [
    {
     "name": "stdout",
     "output_type": "stream",
     "text": [
      "['world', 'hello']\n",
      "world \n",
      "world hello \n"
     ]
    },
    {
     "data": {
      "text/plain": [
       "['world', 'hello']"
      ]
     },
     "execution_count": 10,
     "metadata": {},
     "output_type": "execute_result"
    }
   ],
   "source": [
    "def fun(s):\n",
    "    lst = s.split(\" \")\n",
    "    # print(lst)\n",
    "    new_lst = lst[::-1]\n",
    "    print(new_lst)\n",
    "    new_str = \"\"\n",
    "    \n",
    "    for i in new_lst:\n",
    "        new_str += i + \" \"\n",
    "        print(new_str)\n",
    "    new_str = new_str[:-1]\n",
    "    # print(new_str)\n",
    "    \n",
    "    return new_lst\n",
    "s = \"Hello World . to the \"\n",
    "fun('hello world')"
   ]
  },
  {
   "cell_type": "code",
   "execution_count": 9,
   "metadata": {},
   "outputs": [
    {
     "data": {
      "text/plain": [
       "'george,samuel'"
      ]
     },
     "execution_count": 9,
     "metadata": {},
     "output_type": "execute_result"
    }
   ],
   "source": [
    "\n",
    "new_lst=[\"george\",\"samuel\"]\n",
    "new_str = \",\".join(new_lst)\n",
    "new_str\n"
   ]
  },
  {
   "cell_type": "code",
   "execution_count": 18,
   "metadata": {},
   "outputs": [
    {
     "data": {
      "text/plain": [
       "'World Hello'"
      ]
     },
     "execution_count": 18,
     "metadata": {},
     "output_type": "execute_result"
    }
   ],
   "source": [
    "# another solution\n",
    "def fun(s):\n",
    "    lst = s.split(\" \")\n",
    "    new_lst = lst[::-1]\n",
    "    new_str = \" \".join(new_lst)\n",
    "    return new_str\n",
    "s = \"Hello World\"\n",
    "fun(s)"
   ]
  },
  {
   "cell_type": "code",
   "execution_count": null,
   "metadata": {},
   "outputs": [
    {
     "name": "stdout",
     "output_type": "stream",
     "text": [
      "World Hello\n"
     ]
    }
   ],
   "source": [
    "#### your class here\n",
    "\n",
    "\"\"\"\n",
    "A class to reverse the word order in a string\n",
    "\n",
    "This class takes a string input and provides functionality to reverse\n",
    "the order of words while maintaining the words themselves intact.\n",
    "\n",
    "Attributes:\n",
    "    string (str): The input string to be processed\n",
    "\"\"\"\n",
    "\n",
    "\n",
    "class ReverseStr:\n",
    "    def __init__(self, string):\n",
    "        self.string = string\n",
    "    \n",
    "    def reverse(self):\n",
    "        \"\"\"Reverse the order of words in the input string\n",
    "        \n",
    "        Algorithm:\n",
    "        1. Split string into list of words\n",
    "        2. Reverse the list using slice notation\n",
    "        3. Join words back together with spaces\n",
    "        \n",
    "        Returns:\n",
    "            str: A new string with the words in reverse order\n",
    "        \"\"\"\n",
    "        lst = self.string.split(\" \")\n",
    "        new_lst = lst[::-1]\n",
    "        new_str = \" \".join(new_lst)\n",
    "        return new_str\n",
    "\n",
    "\n",
    "\n",
    "#### test your class \n",
    "if __name__ == \"__main__\":\n",
    "    s = \"Hello World\"\n",
    "    rev_str = ReverseStr(s).reverse()\n",
    "    print(rev_str)"
   ]
  },
  {
   "cell_type": "markdown",
   "metadata": {},
   "source": [
    "# Task 6.\n",
    "- Create a program that generates a random password of a given length.\n",
    "- Hint: use random module → import random → random.randrange"
   ]
  },
  {
   "cell_type": "code",
   "execution_count": null,
   "metadata": {},
   "outputs": [],
   "source": [
    "\n",
    "\n"
   ]
  },
  {
   "cell_type": "code",
   "execution_count": null,
   "metadata": {},
   "outputs": [],
   "source": []
  },
  {
   "cell_type": "code",
   "execution_count": 67,
   "metadata": {},
   "outputs": [
    {
     "name": "stdout",
     "output_type": "stream",
     "text": [
      "u9MVx5Yn\n"
     ]
    }
   ],
   "source": [
    "# another solution\n",
    "import random\n",
    "\n",
    "def generate_password(length):\n",
    "    characters = \"abcdefghijklmnopqrstuvwxyzABCDEFGHIJKLMNOPQRSTUVWXYZ1234567890!@#$%^&*\"\n",
    "    password = \"\"\n",
    "\n",
    "    for _ in range(length):\n",
    "        password += random.choice(characters)\n",
    "\n",
    "    return password\n",
    "\n",
    "# Usage example\n",
    "password_length = 8\n",
    "random_password = generate_password(password_length)\n",
    "print(random_password)\n"
   ]
  },
  {
   "cell_type": "code",
   "execution_count": null,
   "metadata": {},
   "outputs": [
    {
     "name": "stdout",
     "output_type": "stream",
     "text": [
      "o4zg@JI1\n"
     ]
    }
   ],
   "source": [
    "#### your class here\n",
    "import random\n",
    "\n",
    "\"\"\"\n",
    "A class to generate random passwords of specified length\n",
    "\n",
    "This class provides functionality to create secure passwords by randomly\n",
    "selecting characters from a predefined set of allowed characters.\n",
    "\n",
    "Attributes:\n",
    "    length (int): The desired length of the password to generate\n",
    "\"\"\"\n",
    "\n",
    "\n",
    "class RandomPassword:\n",
    "    def __init__(self, length):\n",
    "        self.length = length\n",
    "\n",
    "    def generate_password(self):\n",
    "        \"\"\"Generate a random password of specified length\n",
    "        \n",
    "        Uses a string of allowed characters including:\n",
    "        - Lowercase letters (a-z)\n",
    "        - Uppercase letters (A-Z)\n",
    "        - Numbers (0-9)\n",
    "        - Special characters (!@#$%^&*)\n",
    "        \n",
    "        Random.choice is used to select characters randomly\n",
    "        \n",
    "        Returns:\n",
    "            str: A randomly generated password of the specified length\n",
    "        \"\"\"\n",
    "        characters = \"abcdefghijklmnopqrstuvwxyzABCDEFGHIJKLMNOPQRSTUVWXYZ1234567890!@#$%^&*\"\n",
    "        password = \"\"\n",
    "\n",
    "        for _ in range(self.length):\n",
    "            password += random.choice(characters)\n",
    "\n",
    "        return password\n",
    "\n",
    "\n",
    "\n",
    "#### test your class \n",
    "if __name__ == \"__main__\":\n",
    "    password_length = 8\n",
    "    gen_pass = RandomPassword(password_length).generate_password()\n",
    "    print(gen_pass)"
   ]
  },
  {
   "cell_type": "markdown",
   "metadata": {},
   "source": [
    "# Task 7.\n",
    "- Write a Python program to find all the unique words and count the frequency of occurrence from a given list of strings\n",
    "\n",
    "- **Ex:** [\"Welcome\", \"Ali\", \"Hi\", \"Ali\", \"No\", \"Hi\", \"No\", \"Ali\", \"No\", \"Ali\"]  → {'Ali': 4, 'Welcome': 1, 'No': 3, 'Hi': 2}"
   ]
  },
  {
   "cell_type": "code",
   "execution_count": 31,
   "metadata": {},
   "outputs": [
    {
     "data": {
      "text/plain": [
       "{'Hi': 2, 'No': 3, 'Welcome': 1, 'Ali': 4}"
      ]
     },
     "execution_count": 31,
     "metadata": {},
     "output_type": "execute_result"
    }
   ],
   "source": [
    "words = [\"Welcome\", \"Ali\", \"Hi\", \"Ali\", \"No\", \"Hi\", \"No\", \"Ali\", \"No\", \"Ali\"]\n",
    "unique_words = set(words)\n",
    "counts = {word: 0 for word in unique_words}\n",
    "for i in unique_words:\n",
    "    for j in words:\n",
    "        if i == j:\n",
    "            counts[i] += 1\n",
    "counts"
   ]
  },
  {
   "cell_type": "code",
   "execution_count": null,
   "metadata": {},
   "outputs": [
    {
     "name": "stdout",
     "output_type": "stream",
     "text": [
      "{'No': 3, 'Ali': 4, 'Welcome': 1, 'Hi': 2}\n"
     ]
    }
   ],
   "source": [
    "#### your class here\n",
    "\n",
    "\"\"\"\n",
    "A class to find and count unique words in a list\n",
    "\n",
    "This class accepts a list of words and provides functionality to count\n",
    "how many times each unique word appears in the list.\n",
    "\n",
    "Attributes:\n",
    "    words (list): The input list of words to analyze\n",
    "\"\"\"\n",
    "\n",
    "\n",
    "class UniqueWords:\n",
    "    def __init__(self, words):\n",
    "        self.words = words\n",
    "    def count_word(self):\n",
    "        \"\"\"Count frequency of each unique word in the input list\n",
    "        \n",
    "        Algorithm:\n",
    "        1. Convert list to set to get unique words\n",
    "        2. Create dictionary with words as keys and 0 as initial counts\n",
    "        3. Compare each unique word against all words in original list\n",
    "        4. Increment counter when match is found\n",
    "        \n",
    "        Returns:\n",
    "            dict: Dictionary with unique words as keys and their counts as values\n",
    "        \"\"\"\n",
    "        unique_words = set(self.words)\n",
    "        counts = {word: 0 for word in unique_words}\n",
    "        for i in unique_words:\n",
    "            for j in self.words:\n",
    "                if i == j:\n",
    "                    counts[i] += 1\n",
    "        return counts\n",
    "\n",
    "\n",
    "\n",
    "#### test your class \n",
    "if __name__ == \"__main__\":\n",
    "    words = [\"Welcome\", \"Ali\", \"Hi\", \"Ali\", \"No\", \"Hi\", \"No\", \"Ali\", \"No\", \"Ali\"]\n",
    "    u_word = UniqueWords(words).count_word()\n",
    "    print(u_word)"
   ]
  },
  {
   "cell_type": "code",
   "execution_count": null,
   "metadata": {},
   "outputs": [
    {
     "name": "stdout",
     "output_type": "stream",
     "text": [
      "Hi:2\n",
      "No:3\n",
      "Welcome:1\n",
      "Ali:4\n"
     ]
    }
   ],
   "source": [
    "# another solution\n",
    "\n",
    "words = [\"Welcome\", \"Ali\", \"Hi\", \"Ali\", \"No\", \"Hi\", \"No\", \"Ali\", \"No\", \"Ali\"]\n",
    "def freq(words):\n",
    "\n",
    "    unique_words = set(words)\n",
    "\n",
    "    for word in unique_words:\n",
    "        print(f\"{word}:{words.count(word)}\")"
   ]
  },
  {
   "cell_type": "code",
   "execution_count": 6,
   "metadata": {},
   "outputs": [],
   "source": [
    "#### your class here\n",
    "\n",
    "\n",
    "\n",
    "\n",
    "#### test your class \n",
    "if __name__ == \"__main__\":\n",
    "    pass"
   ]
  },
  {
   "cell_type": "markdown",
   "metadata": {},
   "source": [
    "# Task 8.\n",
    "- Write a Python program to find all the unique words and count the frequency of occurrence from a text file and save the counts in a new file\n",
    "- This is the same as Task 7 but this time read words from a file\n",
    "- Hint: use replace function and split function"
   ]
  },
  {
   "cell_type": "markdown",
   "metadata": {},
   "source": [
    "**First Step: read the file**"
   ]
  },
  {
   "cell_type": "code",
   "execution_count": 33,
   "metadata": {},
   "outputs": [],
   "source": [
    "\n",
    "input_file = open(\"input_file.txt\", \"r\")\n",
    "text = input_file.read()\n",
    "input_file.close()"
   ]
  },
  {
   "cell_type": "markdown",
   "metadata": {},
   "source": [
    "**Second step: remove '\\n' then convert the file text into a list of words**"
   ]
  },
  {
   "cell_type": "code",
   "execution_count": 34,
   "metadata": {},
   "outputs": [],
   "source": [
    "text = text.replace('\\n', ' ')\n",
    "words = text.split(' ')"
   ]
  },
  {
   "cell_type": "markdown",
   "metadata": {},
   "source": [
    "**Third Step: get unique words, create a dictionary, then count unique words**"
   ]
  },
  {
   "cell_type": "code",
   "execution_count": 35,
   "metadata": {
    "scrolled": true
   },
   "outputs": [],
   "source": [
    "unique_words = set(words)\n",
    "word_counts = dict()\n",
    "\n",
    "for word in unique_words:\n",
    "    word_counts[word] = words.count(word)"
   ]
  },
  {
   "cell_type": "markdown",
   "metadata": {},
   "source": [
    "**Save the word-count pair into a text file**"
   ]
  },
  {
   "cell_type": "code",
   "execution_count": 36,
   "metadata": {},
   "outputs": [],
   "source": [
    "output_file = open(\"output_file.txt\", \"w\")\n",
    "for word in word_counts:\n",
    "    output_file.write(\"{}: {}\\n\".format(word, word_counts[word]))\n",
    "output_file.close()"
   ]
  },
  {
   "cell_type": "code",
   "execution_count": null,
   "metadata": {},
   "outputs": [],
   "source": [
    "### convert first to function\n",
    "input_file = open(\"input_file.txt\", \"r\")\n",
    "text = input_file.read()\n",
    "input_file.close()\n",
    "\n",
    "def unique_words(input_file, output_file):\n",
    "    text = input_file.replace('\\n', ' ')\n",
    "    words = text.split(' ')\n",
    "\n",
    "    unique_words = set(words)\n",
    "    word_counts = dict()\n",
    "    # print(unique_words)\n",
    "\n",
    "    for word in unique_words:\n",
    "        word_counts[word] = words.count(word)\n",
    "        # print(word_counts[word])\n",
    "    \n",
    "    for word in word_counts:\n",
    "        output_file.write(\"{}: {}\\n\".format(word, word_counts[word]))\n",
    "\n",
    "output_file = open(\"output_file.txt\", \"w\")\n",
    "unique_words(text, output_file)\n",
    "output_file.close()\n",
    "\n",
    "#### your class here\n",
    "\n",
    "\"\"\"\n",
    "A class to process text files and count word frequencies\n",
    "\n",
    "This class reads text from a file, counts word frequencies,\n",
    "and writes the results to an output file.\n",
    "\n",
    "Attributes:\n",
    "    input_file (str): Content of the input file to analyze\n",
    "    output_file (file): File object for writing results\n",
    "\"\"\"\n",
    "\n",
    "\n",
    "class UniqueWords2:\n",
    "    def __init__(self, input_file, output_file):\n",
    "        self.input_file = input_file\n",
    "        self.output_file = output_file\n",
    "\n",
    "    def unique_words(self):\n",
    "        \"\"\"Process text and write word frequencies to output file\n",
    "        \n",
    "        Algorithm:\n",
    "        1. Clean text by replacing newlines with spaces\n",
    "        2. Split text into list of words\n",
    "        3. Get unique words using set\n",
    "        4. Count occurrences of each unique word\n",
    "        5. Write results to output file\n",
    "        \n",
    "        Format of output file:\n",
    "        word: count\n",
    "        \"\"\"\n",
    "        text = self.input_file.replace('\\n', ' ')\n",
    "        words = text.split(' ')\n",
    "\n",
    "        unique_words = set(words)\n",
    "        word_counts = dict()\n",
    "        # print(unique_words)\n",
    "\n",
    "        for word in unique_words:\n",
    "            word_counts[word] = words.count(word)\n",
    "            # print(word_counts[word])\n",
    "        \n",
    "        for word in word_counts:\n",
    "            self.output_file.write(\"{}: {}\\n\".format(word, word_counts[word]))\n",
    "\n",
    "\n",
    "\n",
    "#### test your class \n",
    "if __name__ == \"__main__\":\n",
    "    output_file = open(\"output_file.txt\", \"w\")\n",
    "    u_words = UniqueWords2(text, output_file).unique_words()\n",
    "    u_words\n",
    "    output_file.close()\n"
   ]
  },
  {
   "cell_type": "markdown",
   "metadata": {},
   "source": [
    "# Task 9.\n",
    "- Implement a basic chatbot that can respond to user input with predefined responses"
   ]
  },
  {
   "cell_type": "markdown",
   "metadata": {},
   "source": [
    "CONVERT IT TO CLASS STRUCTURE"
   ]
  },
  {
   "cell_type": "code",
   "execution_count": 3,
   "metadata": {},
   "outputs": [
    {
     "name": "stdout",
     "output_type": "stream",
     "text": [
      "Chatbot: Hi! How can I assist you today?\n",
      "Chatbot: Hi there!\n",
      "Chatbot: Goodbye!\n"
     ]
    }
   ],
   "source": [
    "import random\n",
    "\n",
    "# Predefined responses\n",
    "responses = {\n",
    "    \"hello\": [\"Hello!\", \"Hi there!\", \"Greetings!\"],\n",
    "    \"how are you\": [\"I'm doing well, thank you!\", \"I'm fine, how about you?\"],\n",
    "    \"goodbye\": [\"Goodbye!\", \"See you later!\", \"Farewell!\"],\n",
    "    \"default\": [\"I'm sorry, I didn't understand.\", \"Could you please rephrase that?\"]\n",
    "}\n",
    "\n",
    "# Function to get a response based on user input\n",
    "def get_response(user_input):\n",
    "    for key in responses:\n",
    "        if key in user_input:\n",
    "            return random.choice(responses[key])\n",
    "    \n",
    "    return random.choice(responses[\"default\"])\n",
    "\n",
    "# Chatbot function\n",
    "def chatbot():\n",
    "    print(\"Chatbot: Hi! How can I assist you today?\")\n",
    "    \n",
    "    while True:\n",
    "        user_input = input(\"User: \").lower()\n",
    "        response = get_response(user_input)\n",
    "        print(\"Chatbot:\", response)\n",
    "        \n",
    "        if user_input == \"goodbye\":\n",
    "            break\n",
    "\n",
    "# Run the chatbot\n",
    "chatbot()\n"
   ]
  },
  {
   "cell_type": "code",
   "execution_count": 8,
   "metadata": {},
   "outputs": [],
   "source": [
    "#### your class here\n",
    "\n",
    "\n",
    "\n",
    "\n",
    "#### test your class \n",
    "if __name__ == \"__main__\":\n",
    "    pass"
   ]
  },
  {
   "cell_type": "code",
   "execution_count": null,
   "metadata": {},
   "outputs": [
    {
     "name": "stdout",
     "output_type": "stream",
     "text": [
      "{'hello': ['Hello!', 'Hi there!', 'Greetings!'], 'how are you': [\"I'm doing well, thank you!\", \"I'm fine, how about you?\"], 'goodbye': ['Goodbye!', 'See you later!', 'Farewell!'], 'default': [\"I'm sorry, I didn't understand.\", 'Could you please rephrase that?']}\n"
     ]
    }
   ],
   "source": [
    "import json\n",
    "import random\n",
    "\n",
    "# Load responses from the JSON file\n",
    "with open(\"new.json\", \"r\") as file:\n",
    "    responses = json.load(file)\n",
    "    # print(responses)\n",
    "\n",
    "# Function to get a response based on user input\n",
    "def get_response(user_input):\n",
    "    for key in responses:\n",
    "        if key in user_input:\n",
    "            return random.choice(responses[key])\n",
    "    \n",
    "    return random.choice(responses[\"default\"])\n",
    "\n",
    "# Chatbot function\n",
    "def chatbot():\n",
    "    print(\"Chatbot: Hi! How can I assist you today?\")\n",
    "    \n",
    "    while True:\n",
    "        user_input = input(\"User: \").lower()\n",
    "        response = get_response(user_input)\n",
    "        print(\"Chatbot:\", response)\n",
    "        \n",
    "        if user_input == \"goodbye\":\n",
    "            break\n",
    "\n",
    "# Run the chatbot\n",
    "chatbot()\n"
   ]
  },
  {
   "cell_type": "code",
   "execution_count": null,
   "metadata": {},
   "outputs": [
    {
     "name": "stdout",
     "output_type": "stream",
     "text": [
      "Chatbot: Hi! How can I assist you today?\n",
      "Chatbot: Could you please rephrese that \n",
      "Chatbot: Hello!\n",
      "Chatbot: I'm doing well, thank you!\n",
      "Chatbot: See you later!\n",
      "None\n"
     ]
    }
   ],
   "source": [
    "#### your class here\n",
    "import json\n",
    "import random\n",
    "\n",
    "with open(\"new.json\", \"r\") as file:\n",
    "    responses = json.load(file)\n",
    "\n",
    "\n",
    "\"\"\"\n",
    "A class to implement a simple conversational chatbot\n",
    "\n",
    "This class provides functionality to respond to user input by selecting\n",
    "appropriate responses from predefined options loaded from a JSON file.\n",
    "\n",
    "Attributes:\n",
    "    res (dict): Dictionary containing response patterns and their possible replies\n",
    "\"\"\"\n",
    "\n",
    "\n",
    "class Chatbot:\n",
    "    def __init__(self, res):\n",
    "        self.res = res\n",
    "\n",
    "    def get_response(self, user_input):\n",
    "        \"\"\"Generate appropriate response to user input\n",
    "        \n",
    "        Searches through response patterns to find matches in the user's input.\n",
    "        Returns random choice from matching pattern's response list.\n",
    "        Falls back to default responses if no pattern matches.\n",
    "        \n",
    "        Args:\n",
    "            user_input (str): The text input from user to respond to\n",
    "            \n",
    "        Returns:\n",
    "            str: Selected response message\n",
    "        \"\"\"\n",
    "        for key in responses:\n",
    "            if key in user_input:\n",
    "                return random.choice(responses[key])\n",
    "        \n",
    "        return random.choice(responses[\"default\"])\n",
    "    \n",
    "    def chatbot(self):\n",
    "        \"\"\"Run the main chatbot interaction loop\n",
    "        \n",
    "        Continuously:\n",
    "        1. Display welcome message\n",
    "        2. Get user input\n",
    "        3. Convert input to lowercase\n",
    "        4. Generate and show response\n",
    "        5. Check for exit condition ('goodbye')\n",
    "        \n",
    "        The loop continues until user says 'goodbye'\n",
    "        \"\"\"\n",
    "        print(\"Chatbot: Hi! How can I assist you today?\")\n",
    "        \n",
    "        while True:\n",
    "            user_input = input(\"User: \").lower()\n",
    "            response = self.get_response(user_input)\n",
    "            print(\"Chatbot:\", response)\n",
    "            \n",
    "            if user_input == \"goodbye\":\n",
    "                break\n",
    "\n",
    "\n",
    "\n",
    "#### test your class \n",
    "if __name__ == \"__main__\":\n",
    "    chat = Chatbot(responses).chatbot()\n",
    "    print(chat)"
   ]
  },
  {
   "cell_type": "markdown",
   "metadata": {},
   "source": [
    "# Task 10: Person class and child Student class \n",
    "Create a Python class Person with attributes: name and age.\n",
    "- Create a display() method that displays the name and age of an object created via the Person class.\n",
    "- Create a child class Student which inherits from the Person class and which also has an extra attribute called school.\n",
    "- Create a method displayStudent() that displays the name, age and section of an object created via the Student class.\n",
    "- Create a student object via an instantiation on the Student class and then test the displayStudent method"
   ]
  },
  {
   "cell_type": "code",
   "execution_count": null,
   "metadata": {},
   "outputs": [
    {
     "name": "stdout",
     "output_type": "stream",
     "text": [
      "name: salem and age: 25 and School: AI\n"
     ]
    }
   ],
   "source": [
    "\"\"\"\n",
    "A base class representing a person with basic attributes\n",
    "\n",
    "This class provides basic functionality for storing and displaying\n",
    "personal information like name and age.\n",
    "\n",
    "Attributes:\n",
    "    name (str): The person's name\n",
    "    age (int): The person's age in years\n",
    "\"\"\"\n",
    "\n",
    "\n",
    "class Person:\n",
    "    def __init__(self, name, age):\n",
    "        self.name = name\n",
    "        self.age = age\n",
    "\n",
    "    def display(self):\n",
    "        \"\"\"Format person's information as string\n",
    "        \n",
    "        Returns:\n",
    "            str: Formatted string containing name and age\n",
    "        \"\"\"\n",
    "        return f\"name: {self.name} and age: {self.age}\"\n",
    "\n",
    "\n",
    "\n",
    "\"\"\"A class representing a student, inheriting from Person\n",
    "\n",
    "Extends Person class by adding school information.\n",
    "Inherits name and age attributes/methods from Person.\n",
    "\n",
    "Attributes:\n",
    "    name (str): Student's name (inherited)\n",
    "    age (int): Student's age (inherited) \n",
    "    school (str): Name of student's school\n",
    "\"\"\"\n",
    "\n",
    "\n",
    "class Student(Person):\n",
    "    def __init__(self, name, age, school):\n",
    "        \"\"\"Initialize Student with name, age and school\n",
    "        \n",
    "        Args:\n",
    "            name (str): Student's name \n",
    "            age (int): Student's age\n",
    "            school (str): Student's school name\n",
    "        \"\"\"\n",
    "        super().__init__(name, age)\n",
    "        self.school = school\n",
    "    \n",
    "    def displayStudent(self):\n",
    "        \"\"\"Format complete student information as string\n",
    "        \n",
    "        Uses parent class display() method and adds school info\n",
    "        \n",
    "        Returns:\n",
    "            str: Formatted string with name, age and school\n",
    "        \"\"\"\n",
    "        return f\"{self.display()} and School: {self.school}\"\n",
    "    \n",
    "if __name__ == \"__main__\":\n",
    "    name = \"salem\"\n",
    "    age = 25\n",
    "    school = \"AI\"\n",
    "    student = Student(name, age, school).displayStudent()\n",
    "    print(student)"
   ]
  },
  {
   "cell_type": "code",
   "execution_count": null,
   "metadata": {},
   "outputs": [
    {
     "ename": "ImportError",
     "evalue": "cannot import name 'ReverseStr2' from 'reversestr' (e:\\Work\\my_project's\\Amit_ai_diploma\\Amit_ai_diploma\\reversestr.py)",
     "output_type": "error",
     "traceback": [
      "\u001b[31m---------------------------------------------------------------------------\u001b[39m",
      "\u001b[31mImportError\u001b[39m                               Traceback (most recent call last)",
      "\u001b[36mCell\u001b[39m\u001b[36m \u001b[39m\u001b[32mIn[15]\u001b[39m\u001b[32m, line 1\u001b[39m\n\u001b[32m----> \u001b[39m\u001b[32m1\u001b[39m \u001b[38;5;28;01mfrom\u001b[39;00m\u001b[38;5;250m \u001b[39m\u001b[34;01mreversestr\u001b[39;00m\u001b[38;5;250m \u001b[39m\u001b[38;5;28;01mimport\u001b[39;00m ReverseStr2\n\u001b[32m      2\u001b[39m \u001b[38;5;66;03m#### test your class \u001b[39;00m\n\u001b[32m      3\u001b[39m \u001b[38;5;28;01mif\u001b[39;00m \u001b[34m__name__\u001b[39m == \u001b[33m\"\u001b[39m\u001b[33m__main__\u001b[39m\u001b[33m\"\u001b[39m:\n",
      "\u001b[31mImportError\u001b[39m: cannot import name 'ReverseStr2' from 'reversestr' (e:\\Work\\my_project's\\Amit_ai_diploma\\Amit_ai_diploma\\reversestr.py)"
     ]
    }
   ],
   "source": [
    "from reversestr import *\n",
    "#### test your class \n",
    "if __name__ == \"__main__\":\n",
    "    s = \"Hello World\"\n",
    "    rev_str = ReverseStr2(s).reverse()\n",
    "    print(rev_str)"
   ]
  },
  {
   "cell_type": "code",
   "execution_count": null,
   "metadata": {},
   "outputs": [],
   "source": []
  }
 ],
 "metadata": {
  "kernelspec": {
   "display_name": "venv",
   "language": "python",
   "name": "python3"
  },
  "language_info": {
   "codemirror_mode": {
    "name": "ipython",
    "version": 3
   },
   "file_extension": ".py",
   "mimetype": "text/x-python",
   "name": "python",
   "nbconvert_exporter": "python",
   "pygments_lexer": "ipython3",
   "version": "3.12.4"
  }
 },
 "nbformat": 4,
 "nbformat_minor": 2
}
