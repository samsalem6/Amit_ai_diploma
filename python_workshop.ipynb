{
 "cells": [
  {
   "cell_type": "code",
   "execution_count": 6,
   "id": "b7bd3559",
   "metadata": {},
   "outputs": [],
   "source": [
    "import random\n",
    "from prettytable import PrettyTable"
   ]
  },
  {
   "cell_type": "code",
   "execution_count": 4,
   "id": "4cb70514",
   "metadata": {},
   "outputs": [],
   "source": [
    "u = \"salem\"\n",
    "p = \"1111\""
   ]
  },
  {
   "cell_type": "code",
   "execution_count": 7,
   "id": "4f546b98",
   "metadata": {},
   "outputs": [
    {
     "name": "stdout",
     "output_type": "stream",
     "text": [
      "Your Verification code is :  457082\n",
      "Invalid Verification code, please try again\n",
      "Access Garnteed!\n"
     ]
    }
   ],
   "source": [
    "while True:\n",
    "    x = input(\"Enter your username:  \")\n",
    "    if x == u:\n",
    "        y = input(\"Enter your Password:  \")\n",
    "        if y == p:\n",
    "            s = random.randrange(10000, 1000000)\n",
    "            print(\"Your Verification code is : \", s)\n",
    "\n",
    "            while True:\n",
    "                l = int(input(\"Enter Verification code :  \"))\n",
    "                if l == s:\n",
    "                    print(\"Access Garnteed!\")\n",
    "                    break\n",
    "                else:\n",
    "                    print(\"Invalid Verification code, please try again\")\n",
    "            break\n",
    "\n",
    "        else:\n",
    "            print(\"Incorrect password. please try again\")\n",
    "            continue\n",
    "        \n",
    "    else:\n",
    "        print(\"Incorrect username. please try again\")\n",
    "        continue"
   ]
  },
  {
   "cell_type": "code",
   "execution_count": 2,
   "id": "70ae0e70",
   "metadata": {},
   "outputs": [
    {
     "ename": "NameError",
     "evalue": "name 'PrettyTable' is not defined",
     "output_type": "error",
     "traceback": [
      "\u001b[31m---------------------------------------------------------------------------\u001b[39m",
      "\u001b[31mNameError\u001b[39m                                 Traceback (most recent call last)",
      "\u001b[36mCell\u001b[39m\u001b[36m \u001b[39m\u001b[32mIn[2]\u001b[39m\u001b[32m, line 8\u001b[39m\n\u001b[32m      1\u001b[39m proudacts = [\n\u001b[32m      2\u001b[39m     {\u001b[33m\"\u001b[39m\u001b[33mname\u001b[39m\u001b[33m\"\u001b[39m: \u001b[33m\"\u001b[39m\u001b[33mwater\u001b[39m\u001b[33m\"\u001b[39m, \u001b[33m\"\u001b[39m\u001b[33mprice\u001b[39m\u001b[33m\"\u001b[39m: \u001b[33m\"\u001b[39m\u001b[33m80.0\u001b[39m\u001b[33m\"\u001b[39m, \u001b[33m\"\u001b[39m\u001b[33mquantity\u001b[39m\u001b[33m\"\u001b[39m: \u001b[32m1200\u001b[39m},\n\u001b[32m      3\u001b[39m     {\u001b[33m\"\u001b[39m\u001b[33mname\u001b[39m\u001b[33m\"\u001b[39m: \u001b[33m\"\u001b[39m\u001b[33mchips\u001b[39m\u001b[33m\"\u001b[39m, \u001b[33m\"\u001b[39m\u001b[33mprice\u001b[39m\u001b[33m\"\u001b[39m: \u001b[33m\"\u001b[39m\u001b[33m70.0\u001b[39m\u001b[33m\"\u001b[39m, \u001b[33m\"\u001b[39m\u001b[33mquantity\u001b[39m\u001b[33m\"\u001b[39m: \u001b[32m1200\u001b[39m},\n\u001b[32m      4\u001b[39m     {\u001b[33m\"\u001b[39m\u001b[33mname\u001b[39m\u001b[33m\"\u001b[39m: \u001b[33m\"\u001b[39m\u001b[33mbread\u001b[39m\u001b[33m\"\u001b[39m, \u001b[33m\"\u001b[39m\u001b[33mprice\u001b[39m\u001b[33m\"\u001b[39m: \u001b[33m\"\u001b[39m\u001b[33m45.0\u001b[39m\u001b[33m\"\u001b[39m, \u001b[33m\"\u001b[39m\u001b[33mquantity\u001b[39m\u001b[33m\"\u001b[39m: \u001b[32m1200\u001b[39m},\n\u001b[32m      5\u001b[39m     {\u001b[33m\"\u001b[39m\u001b[33mname\u001b[39m\u001b[33m\"\u001b[39m: \u001b[33m\"\u001b[39m\u001b[33mEggs\u001b[39m\u001b[33m\"\u001b[39m, \u001b[33m\"\u001b[39m\u001b[33mprice\u001b[39m\u001b[33m\"\u001b[39m: \u001b[33m\"\u001b[39m\u001b[33m200.0\u001b[39m\u001b[33m\"\u001b[39m, \u001b[33m\"\u001b[39m\u001b[33mquantity\u001b[39m\u001b[33m\"\u001b[39m: \u001b[32m1200\u001b[39m},\n\u001b[32m      6\u001b[39m ]\n\u001b[32m----> \u001b[39m\u001b[32m8\u001b[39m table = \u001b[43mPrettyTable\u001b[49m()\n\u001b[32m      9\u001b[39m table.field_names = [\u001b[33m\"\u001b[39m\u001b[33mName\u001b[39m\u001b[33m\"\u001b[39m, \u001b[33m\"\u001b[39m\u001b[33mPrice\u001b[39m\u001b[33m\"\u001b[39m, \u001b[33m\"\u001b[39m\u001b[33mQuantity\u001b[39m\u001b[33m\"\u001b[39m]\n\u001b[32m     11\u001b[39m \u001b[38;5;28;01mfor\u001b[39;00m proudct \u001b[38;5;129;01min\u001b[39;00m proudacts:\n",
      "\u001b[31mNameError\u001b[39m: name 'PrettyTable' is not defined"
     ]
    }
   ],
   "source": [
    "proudacts = [\n",
    "    {\"name\": \"water\", \"price\": \"80.0\", \"quantity\": 1200},\n",
    "    {\"name\": \"chips\", \"price\": \"70.0\", \"quantity\": 1200},\n",
    "    {\"name\": \"bread\", \"price\": \"45.0\", \"quantity\": 1200},\n",
    "    {\"name\": \"Eggs\", \"price\": \"200.0\", \"quantity\": 1200},\n",
    "]\n",
    "\n",
    "table = PrettyTable()\n",
    "table.field_names = [\"Name\", \"Price\", \"Quantity\"]\n",
    "\n",
    "for proudct in proudacts:\n",
    "    table.add_row([proudct[\"name\"], proudct[\"price\"], proudct[\"quantity\"]])\n",
    "\n",
    "print(table)"
   ]
  },
  {
   "cell_type": "code",
   "execution_count": 3,
   "id": "3822761c",
   "metadata": {},
   "outputs": [
    {
     "name": "stdout",
     "output_type": "stream",
     "text": [
      "Discounted Price for water: $15200.00\n"
     ]
    }
   ],
   "source": [
    "total_discounted_price = 0\n",
    "\n",
    "while True:\n",
    "    product_name = input(\"Enter product name: \").lower()\n",
    "    product = next((p for p in proudacts if p[\"name\"].lower() == product_name), None)\n",
    "    if product is None:\n",
    "        print(\"Product not found.\")\n",
    "        continue\n",
    "    quantity_required = float(input(\"Enter quantity: \"))\n",
    "    if quantity_required > product[\"quantity\"]:\n",
    "        print(\"Insufficient quantity.\")\n",
    "        continue\n",
    "    discount_percentage = 0.05\n",
    "    discounted_price = float(quantity_required * float(product[\"price\"]) * (1 - discount_percentage))\n",
    "    product[\"quantity\"] -= quantity_required\n",
    "    # total_dicounted_price += discounted_price\n",
    "    print(f\"Discounted Price for {product_name}: ${discounted_price:.2f}\")\n",
    "    break"
   ]
  },
  {
   "cell_type": "code",
   "execution_count": null,
   "id": "eb187833",
   "metadata": {},
   "outputs": [],
   "source": []
  }
 ],
 "metadata": {
  "kernelspec": {
   "display_name": "venv",
   "language": "python",
   "name": "python3"
  },
  "language_info": {
   "codemirror_mode": {
    "name": "ipython",
    "version": 3
   },
   "file_extension": ".py",
   "mimetype": "text/x-python",
   "name": "python",
   "nbconvert_exporter": "python",
   "pygments_lexer": "ipython3",
   "version": "3.12.4"
  }
 },
 "nbformat": 4,
 "nbformat_minor": 5
}
