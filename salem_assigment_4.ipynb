{
 "cells": [
  {
   "cell_type": "code",
   "execution_count": null,
   "id": "dbc7b172",
   "metadata": {},
   "outputs": [
    {
     "name": "stdout",
     "output_type": "stream",
     "text": [
      "9 * 1 = 9\n",
      "9 * 2 = 18\n",
      "9 * 3 = 27\n",
      "9 * 4 = 36\n",
      "9 * 5 = 45\n",
      "9 * 6 = 54\n",
      "9 * 7 = 63\n",
      "9 * 8 = 72\n",
      "9 * 9 = 81\n",
      "9 * 10 = 90\n",
      "9 * 11 = 99\n",
      "9 * 12 = 108\n"
     ]
    }
   ],
   "source": [
    "# multiplication table function\n",
    "\n",
    "def multiplication_table(num):\n",
    "    \"\"\"\n",
    "        function to get multiplication_table\n",
    "        type param: int\n",
    "        return multiplication table for given number\n",
    "        r_type: str\n",
    "    \"\"\"\n",
    "    for i in range(1, 12+1):\n",
    "        result = num * i\n",
    "        print(f\"{num} * {i} = {result}\")\n",
    "\n",
    "multiplication_table(9)"
   ]
  },
  {
   "cell_type": "code",
   "execution_count": 16,
   "id": "4c349c21",
   "metadata": {},
   "outputs": [
    {
     "name": "stdout",
     "output_type": "stream",
     "text": [
      "[10, 5, 2, 1, 0]\n"
     ]
    },
    {
     "data": {
      "text/plain": [
       "'10100'"
      ]
     },
     "execution_count": 16,
     "metadata": {},
     "output_type": "execute_result"
    }
   ],
   "source": [
    "# Decimal to Binary\n",
    "\n",
    "# Divide 10 by 2:\n",
    "#  Quotient = 5, Remainder = 0.\n",
    "\n",
    "# Divide 5 by 2:\n",
    "#  Quotient = 2, Remainder = 1.\n",
    "# Divide 2 by 2:\n",
    "#  Quotient = 1, Remainder = 0.\n",
    "# Divide 1 by 2:\n",
    "#  Quotient = 0, Remainder = 1.\n",
    "# Now, write the remainders in reverse order:\n",
    "# Binary of 10 = 1010.\n",
    "\n",
    "def decToBin(num):\n",
    "    \"\"\"\n",
    "        function to get decToBin\n",
    "        type param: int\n",
    "        return binary for given decimal\n",
    "        r_type: str\n",
    "    \"\"\"\n",
    "    quotient = []\n",
    "    result = ''\n",
    "    if num == 0:\n",
    "        return 0\n",
    "    while num > 0:\n",
    "        result = str(num % 2) + result\n",
    "        num //= 2\n",
    "        # print(num)\n",
    "        # print(\"=====\")\n",
    "        # print(result)\n",
    "        quotient.append(num)\n",
    "    print(quotient)\n",
    "    return result\n",
    "    \n",
    "    \n",
    "decToBin(20)"
   ]
  },
  {
   "cell_type": "code",
   "execution_count": null,
   "id": "72005a2a",
   "metadata": {},
   "outputs": [
    {
     "name": "stdout",
     "output_type": "stream",
     "text": [
      "1573\n",
      "143\n",
      "13\n",
      "1\n"
     ]
    },
    {
     "data": {
      "text/plain": [
       "[7, 11, 11, 13]"
      ]
     },
     "execution_count": 3,
     "metadata": {},
     "output_type": "execute_result"
    }
   ],
   "source": [
    "def get_Prime_factors(num):\n",
    "    \"\"\"\n",
    "        function to get Prime factors\n",
    "        type param: int\n",
    "        return get Prime factors for given munber\n",
    "        r_type: str\n",
    "    \"\"\"\n",
    "    prime_factors = []\n",
    "    divisor = 2\n",
    "    while (divisor <= num):\n",
    "        if (num % divisor) == 0:\n",
    "            prime_factors.append(divisor)\n",
    "            num //= divisor\n",
    "            print(num)\n",
    "        else:\n",
    "            divisor += 1\n",
    "            \n",
    "    return prime_factors\n",
    "\n",
    "get_Prime_factors(11011)"
   ]
  },
  {
   "cell_type": "code",
   "execution_count": 9,
   "id": "3a210d08",
   "metadata": {},
   "outputs": [
    {
     "name": "stdout",
     "output_type": "stream",
     "text": [
      "3 and 5\n",
      "5 and 7\n",
      "11 and 13\n",
      "17 and 19\n",
      "29 and 31\n",
      "41 and 43\n",
      "59 and 61\n",
      "71 and 73\n",
      "101 and 103\n",
      "107 and 109\n",
      "137 and 139\n",
      "149 and 151\n",
      "179 and 181\n",
      "191 and 193\n",
      "197 and 199\n",
      "227 and 229\n",
      "239 and 241\n",
      "269 and 271\n",
      "281 and 283\n",
      "311 and 313\n",
      "347 and 349\n",
      "419 and 421\n",
      "431 and 433\n",
      "461 and 463\n",
      "521 and 523\n",
      "569 and 571\n",
      "599 and 601\n",
      "617 and 619\n",
      "641 and 643\n",
      "659 and 661\n",
      "809 and 811\n",
      "821 and 823\n",
      "827 and 829\n",
      "857 and 859\n",
      "881 and 883\n"
     ]
    }
   ],
   "source": [
    "\n",
    "def isPrime(num):\n",
    "    \"\"\"\n",
    "        function to check if number is prime\n",
    "        type param: int\n",
    "        return true if num is prime number\n",
    "        r_type: bool\n",
    "    \"\"\"\n",
    "    for i in range(2, num):\n",
    "        if num % i == 0:\n",
    "            return False\n",
    "    return True\n",
    "\n",
    "def get_twin_Primes(num):\n",
    "    \"\"\"\n",
    "        function to get twin Primes\n",
    "        type param: int\n",
    "        return twin primes for given number\n",
    "        r_type: str\n",
    "    \"\"\"\n",
    "    for n in range(2, num-1):\n",
    "        if isPrime(n) and isPrime(n + 2):\n",
    "            print(f\"{n} and {n + 2}\")\n",
    "\n",
    "\n",
    "get_twin_Primes(1000)"
   ]
  },
  {
   "cell_type": "code",
   "execution_count": 1,
   "id": "eff688b4",
   "metadata": {},
   "outputs": [
    {
     "name": "stdout",
     "output_type": "stream",
     "text": [
      "0\n",
      "6\n",
      "28\n"
     ]
    }
   ],
   "source": [
    "def isPrefectNum(num):\n",
    "    \"\"\"\n",
    "        function to check the number is perfect\n",
    "        type param: int\n",
    "        return true if num is perfect number\n",
    "        r_type: bool\n",
    "    \"\"\"\n",
    "    sm = 0\n",
    "    for i in range(1, num, 1):\n",
    "        if num % i == 0:\n",
    "            sm += i\n",
    "    if sm == num:\n",
    "        return True\n",
    "    else:\n",
    "        return False\n",
    "\n",
    "def get_perfect_nums(num1, num2):\n",
    "    \"\"\"\n",
    "        function to get perfect number between two range number\n",
    "        type param1: int\n",
    "        type param2: int\n",
    "        return the perfect numbers\n",
    "        r_type: int\n",
    "    \"\"\"\n",
    "    for i in range(num1, num2+1):\n",
    "            if isPrefectNum(i):\n",
    "                print(f\"{i}\")\n",
    "\n",
    "get_perfect_nums(0, 100)"
   ]
  },
  {
   "cell_type": "code",
   "execution_count": 14,
   "id": "9651ce45",
   "metadata": {},
   "outputs": [
    {
     "name": "stdout",
     "output_type": "stream",
     "text": [
      "2\n"
     ]
    }
   ],
   "source": [
    "print(20 % 3)"
   ]
  }
 ],
 "metadata": {
  "kernelspec": {
   "display_name": "venv",
   "language": "python",
   "name": "python3"
  },
  "language_info": {
   "codemirror_mode": {
    "name": "ipython",
    "version": 3
   },
   "file_extension": ".py",
   "mimetype": "text/x-python",
   "name": "python",
   "nbconvert_exporter": "python",
   "pygments_lexer": "ipython3",
   "version": "3.12.4"
  }
 },
 "nbformat": 4,
 "nbformat_minor": 5
}
